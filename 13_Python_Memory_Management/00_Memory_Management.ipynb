{
 "cells": [
  {
   "cell_type": "markdown",
   "metadata": {},
   "source": [
    "# Python Memory Management\n",
    "\n",
    "1. Memory allocation and deallocation: Python uses a garbage collector to automatically reclaim memory that is no longer in use. This means that you don't need to manually manage memory allocation and deallocation.\n",
    "\n",
    "2. Referencing: Python uses reference counting to keep track of the number of references to an object. When a reference to an object goes out of scope, the garbage collector deallocates the memory occupied"
   ]
  },
  {
   "cell_type": "code",
   "execution_count": null,
   "metadata": {},
   "outputs": [],
   "source": [
    "import sys\n",
    "a = [1, 2, 3]\n",
    "print(sys.getrefcount(a))  \n",
    "# output : 2\n",
    "# The list 'a' has two references: one from the variable 'a' and one from the print statement."
   ]
  },
  {
   "cell_type": "code",
   "execution_count": null,
   "metadata": {},
   "outputs": [],
   "source": [
    "b = a\n",
    "\n",
    "print(sys.getrefcount(a))"
   ]
  },
  {
   "cell_type": "code",
   "execution_count": 4,
   "metadata": {},
   "outputs": [
    {
     "name": "stdout",
     "output_type": "stream",
     "text": [
      "2\n"
     ]
    }
   ],
   "source": [
    "del b\n",
    "\n",
    "print(sys.getrefcount(a))"
   ]
  },
  {
   "cell_type": "code",
   "execution_count": 6,
   "metadata": {},
   "outputs": [
    {
     "data": {
      "text/plain": [
       "344"
      ]
     },
     "execution_count": 6,
     "metadata": {},
     "output_type": "execute_result"
    }
   ],
   "source": [
    "### Garbage Collection in Python:\n",
    "import gc\n",
    "\n",
    "# Start the garbage collector\n",
    "\n",
    "gc.enable()\n",
    "\n",
    "# Create a large list to trigger garbage collection\n",
    "gc.collect()\n",
    "\n"
   ]
  },
  {
   "cell_type": "code",
   "execution_count": 8,
   "metadata": {},
   "outputs": [
    {
     "name": "stdout",
     "output_type": "stream",
     "text": [
      "[{'collections': 192, 'collected': 1758, 'uncollectable': 0}, {'collections': 17, 'collected': 682, 'uncollectable': 0}, {'collections': 2, 'collected': 362, 'uncollectable': 0}]\n"
     ]
    }
   ],
   "source": [
    "## Get Garbage Collection Statastics\n",
    "\n",
    "print(gc.get_stats())\n"
   ]
  },
  {
   "cell_type": "code",
   "execution_count": null,
   "metadata": {},
   "outputs": [],
   "source": [
    "### Get Unreachable Objects\n",
    "\n",
    "print(gc.get_objects())\n"
   ]
  },
  {
   "cell_type": "markdown",
   "metadata": {},
   "source": [
    "5. Memory Management Best Practices:\n",
    "    1. Use Local Variables \n",
    "    2. Avoid using global variables\n",
    "    3. Use Generators\n",
    "    4. Use List Comprehensions\n",
    "    5. Use `del` keyword to delete variables and objects to free up memory\n",
    "    "
   ]
  },
  {
   "cell_type": "code",
   "execution_count": 2,
   "metadata": {},
   "outputs": [
    {
     "name": "stdout",
     "output_type": "stream",
     "text": [
      "Object created: Object 1\n",
      "Object created: Object 2\n",
      "Object deleted: Object 1\n",
      "Object deleted: Object 2\n",
      "Object deleted: Object 1\n",
      "Object deleted: Object 2\n"
     ]
    },
    {
     "data": {
      "text/plain": [
       "215"
      ]
     },
     "execution_count": 2,
     "metadata": {},
     "output_type": "execute_result"
    }
   ],
   "source": [
    "import gc \n",
    "class MyObject:\n",
    "    def __init__(self,name):\n",
    "        self.name = name \n",
    "        print(f\"Object created: {self.name}\")\n",
    "    def __del__(self):\n",
    "        print(f\"Object deleted: {self.name}\")\n",
    "\n",
    "## Create a circluar reference\n",
    "\n",
    "obj1 = MyObject(\"Object 1\")\n",
    "obj2 = MyObject(\"Object 2\")\n",
    "\n",
    "obj1.ref = obj2\n",
    "obj2.ref = obj1\n",
    "\n",
    "del obj1\n",
    "\n",
    "del obj2\n",
    "\n",
    "# Manually Trigger Garbage Collection\n",
    "\n",
    "gc.collect()\n"
   ]
  },
  {
   "cell_type": "code",
   "execution_count": 3,
   "metadata": {},
   "outputs": [
    {
     "name": "stdout",
     "output_type": "stream",
     "text": [
      "0\n",
      "1\n",
      "2\n",
      "3\n",
      "4\n",
      "5\n",
      "6\n",
      "7\n",
      "8\n",
      "9\n",
      "10\n",
      "11\n"
     ]
    }
   ],
   "source": [
    "## Generators for memory Efficiency:\n",
    "\n",
    "def generate_numbers(n):\n",
    "    for i in range(n):\n",
    "        yield i\n",
    "\n",
    "for num in generate_numbers(1000000):\n",
    "    print(num)\n",
    "    if num > 10 :\n",
    "        break\n"
   ]
  }
 ],
 "metadata": {
  "kernelspec": {
   "display_name": "Python 3",
   "language": "python",
   "name": "python3"
  },
  "language_info": {
   "codemirror_mode": {
    "name": "ipython",
    "version": 3
   },
   "file_extension": ".py",
   "mimetype": "text/x-python",
   "name": "python",
   "nbconvert_exporter": "python",
   "pygments_lexer": "ipython3",
   "version": "3.13.1"
  }
 },
 "nbformat": 4,
 "nbformat_minor": 2
}
