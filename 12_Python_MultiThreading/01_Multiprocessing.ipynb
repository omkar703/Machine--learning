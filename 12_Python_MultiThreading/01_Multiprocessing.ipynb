{
 "cells": [
  {
   "cell_type": "code",
   "execution_count": 3,
   "metadata": {},
   "outputs": [
    {
     "name": "stdout",
     "output_type": "stream",
     "text": [
      "Both processes have completed their execution. 0.11768651008605957\n"
     ]
    }
   ],
   "source": [
    "## Multiprocessing\n",
    "# --> It allow to run processes simultaneously\n",
    "# CPU bound tasks can be parallelized using multiprocessing\n",
    "# Parallel execution allows for faster execution of multiple tasks at the same time (use all cores)\n",
    "\n",
    "import multiprocessing\n",
    "import time\n",
    "def square_number():\n",
    "    for i in range(10):\n",
    "        time.sleep(1)\n",
    "        print(f'Square of {i} is {i**2} \\n')\n",
    "\n",
    "def cube_number():\n",
    "    for i in range(10):\n",
    "        time.sleep(1.5)\n",
    "        print(f'Cube of {i} is {i**3} \\n')\n",
    "\n",
    "# Main program starts here. If this script is run directly, it starts the main program.\n",
    "if __name__ == '__main__':\n",
    "## Create processes\n",
    "    square_process = multiprocessing.Process(target=square_number)\n",
    "    cube_process = multiprocessing.Process(target=cube_number)\n",
    "\n",
    "    t = time.time()\n",
    "    ## Start processes\n",
    "\n",
    "    square_process.start()\n",
    "    cube_process.start()\n",
    "\n",
    "    # wait for process completion\n",
    "\n",
    "    square_process.join()\n",
    "    cube_process.join()\n",
    "\n",
    "    finished_time = time.time() - t\n",
    "    print('Both processes have completed their execution.',finished_time)\n",
    "\n"
   ]
  },
  {
   "cell_type": "code",
   "execution_count": null,
   "metadata": {},
   "outputs": [],
   "source": []
  },
  {
   "cell_type": "code",
   "execution_count": null,
   "metadata": {},
   "outputs": [],
   "source": []
  },
  {
   "cell_type": "code",
   "execution_count": null,
   "metadata": {},
   "outputs": [],
   "source": []
  }
 ],
 "metadata": {
  "kernelspec": {
   "display_name": "ml_env",
   "language": "python",
   "name": "python3"
  },
  "language_info": {
   "codemirror_mode": {
    "name": "ipython",
    "version": 3
   },
   "file_extension": ".py",
   "mimetype": "text/x-python",
   "name": "python",
   "nbconvert_exporter": "python",
   "pygments_lexer": "ipython3",
   "version": "3.10.16"
  }
 },
 "nbformat": 4,
 "nbformat_minor": 2
}
