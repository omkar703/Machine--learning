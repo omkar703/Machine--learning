{
 "cells": [
  {
   "cell_type": "code",
   "execution_count": 1,
   "metadata": {},
   "outputs": [
    {
     "name": "stdout",
     "output_type": "stream",
     "text": [
      "Letter : A\n",
      "Letter : B\n",
      "Letter : C\n",
      "Number : 0\n",
      "Number : 1\n",
      "Number : 2\n",
      "Number : 3\n",
      "Number : 4\n",
      "Time taken : 16.0449 seconds\n"
     ]
    }
   ],
   "source": [
    "# multithreading\n",
    "# when to use\n",
    "# 1. IO bound tasks - read/write files, network requests, database queries\n",
    "# 2. CPU bound tasks - mathematical calculations, complex algorithms (imprive by nature)\n",
    "\n",
    "import threading\n",
    "import time\n",
    "\n",
    "def print_numbers():\n",
    "    for i in range(5):\n",
    "        time.sleep(2)  # I/O application is used\n",
    "        print(f\"Number : {i}\")\n",
    "\n",
    "def print_letters():\n",
    "    for i in range(3):\n",
    "        time.sleep(2)\n",
    "        print(f\"Letter : {chr(i + 65)}\")\n",
    "\n",
    "\n",
    "\n",
    "\n",
    "t = time.time()  # Corrected: Use time.time() instead of time.now()\n",
    "print_letters()\n",
    "print_numbers()\n",
    "finished_time = time.time() - t  # Corrected: Use time.time() again\n",
    "\n",
    "print(f\"Time taken : {finished_time:.4f} seconds\")  # Formatted output\n",
    "\n",
    "# here when 1 task is running, other task is waiting due to single thread execution\n"
   ]
  },
  {
   "cell_type": "code",
   "execution_count": 4,
   "metadata": {},
   "outputs": [
    {
     "name": "stdout",
     "output_type": "stream",
     "text": [
      "Number : 0 \n",
      "\n",
      "Letter : A \n",
      "\n",
      "Letter : B \n",
      "\n",
      "Number : 1 \n",
      "\n",
      "Letter : C \n",
      "Number : 2 \n",
      "\n",
      "\n",
      "Number : 3 \n",
      "\n",
      "Number : 4 \n",
      "\n",
      "Time taken : 10.0783 seconds\n"
     ]
    }
   ],
   "source": [
    "# Create a two threads\n",
    "import threading\n",
    "import time\n",
    "\n",
    "def print_numbers():\n",
    "    for i in range(5):\n",
    "        time.sleep(2)  # I/O application is used\n",
    "        print(f\"Number : {i} \\n\")\n",
    "\n",
    "def print_letters():\n",
    "    for i in range(3):\n",
    "        time.sleep(2)\n",
    "        print(f\"Letter : {chr(i + 65)} \\n\")\n",
    "\n",
    "# Create a thread for each function\n",
    "\n",
    "t1 = threading.Thread(target=print_letters)\n",
    "t2 = threading.Thread(target=print_numbers)\n",
    "\n",
    "\n",
    "t = time.time()  \n",
    "t1.start() # --> start the thread\n",
    "t2.start() # --> start the thread\n",
    "\n",
    "# Wait for both threads to finish\n",
    "\n",
    "t1.join() # --> wait for the thread to finish\n",
    "t2.join() # --> wait for the thread to finish\n",
    "\n",
    "\n",
    "finished_time = time.time() - t  \n",
    "\n",
    "print(f\"Time taken : {finished_time:.4f} seconds\")  #"
   ]
  },
  {
   "cell_type": "code",
   "execution_count": null,
   "metadata": {},
   "outputs": [],
   "source": [
    "# here time is going to be half"
   ]
  }
 ],
 "metadata": {
  "kernelspec": {
   "display_name": "ml_env",
   "language": "python",
   "name": "python3"
  },
  "language_info": {
   "codemirror_mode": {
    "name": "ipython",
    "version": 3
   },
   "file_extension": ".py",
   "mimetype": "text/x-python",
   "name": "python",
   "nbconvert_exporter": "python",
   "pygments_lexer": "ipython3",
   "version": "3.10.16"
  }
 },
 "nbformat": 4,
 "nbformat_minor": 2
}
