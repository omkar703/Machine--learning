{
 "cells": [
  {
   "cell_type": "markdown",
   "metadata": {},
   "source": [
    "# Polymorphism \n",
    "it allows object of diffrent classes to be treated as object of common superclasses"
   ]
  },
  {
   "cell_type": "code",
   "execution_count": 4,
   "metadata": {},
   "outputs": [
    {
     "name": "stdout",
     "output_type": "stream",
     "text": [
      "Woof !\n",
      "Moew !\n",
      "Woof !\n"
     ]
    }
   ],
   "source": [
    "# it provides a way to perform a single action in different forms \n",
    "# Method overriding and interfaces \n",
    "\n",
    "class Animal:\n",
    "    def speak(self):\n",
    "        return \"sound of the animal\"\n",
    "\n",
    "# derived class 1\n",
    "class Dog(Animal):\n",
    "    def speak(self):\n",
    "        return \"Woof !\" \n",
    "\n",
    "# derived class\n",
    "class Cat(Animal):\n",
    "    def speak(self):\n",
    "            return \"Moew !\"\n",
    "    \n",
    "# funtions that demonstrate polymorphism \n",
    "def animal_speak(Animal):\n",
    "     print(Animal.speak())\n",
    "\n",
    "dog = Dog()\n",
    "cat = Cat()\n",
    "print(dog.speak())\n",
    "print(cat.speak())\n",
    "animal_speak(dog)"
   ]
  },
  {
   "cell_type": "code",
   "execution_count": 6,
   "metadata": {},
   "outputs": [
    {
     "name": "stdout",
     "output_type": "stream",
     "text": [
      "the area is 20\n",
      "the area is 28.259999999999998\n",
      "the area is The area of the figure\n"
     ]
    }
   ],
   "source": [
    "# Polymorphism with fn and method\n",
    "# base class\n",
    "class Shape:\n",
    "    def area(self):\n",
    "        return \"The area of the figure\"\n",
    "# Derived class 1\n",
    "class Rectangle(Shape):\n",
    "    def __init__(self,width,height):\n",
    "        self.width = width\n",
    "        self.height = height\n",
    "    def area(self):\n",
    "        return self.width * self.height\n",
    "\n",
    "# Derived class 2\n",
    "class Circle(Shape):\n",
    "    def __init__(self,radius):\n",
    "        self.radius = radius\n",
    "    def area(self):\n",
    "        return 3.14 * self.radius * self.radius\n",
    "\n",
    "def print_area(Shape):\n",
    "    print(f\"the area is {Shape.area()}\")\n",
    "rectangle = Rectangle(4,5)\n",
    "circle = Circle(3)\n",
    "shape = Shape()\n",
    "print_area(rectangle)\n",
    "print_area(circle)\n",
    "print_area(shape)"
   ]
  },
  {
   "cell_type": "code",
   "execution_count": null,
   "metadata": {},
   "outputs": [],
   "source": [
    "# Polymorphism with Abstract Base class (ABC)\n",
    "# it used to define common methods  of related objects "
   ]
  },
  {
   "cell_type": "code",
   "execution_count": 11,
   "metadata": {},
   "outputs": [
    {
     "name": "stdout",
     "output_type": "stream",
     "text": [
      "MotorCycle is started\n"
     ]
    }
   ],
   "source": [
    "from abc import ABC,abstractmethod \n",
    "# define an abstrct class \n",
    "class Vehicle(ABC):\n",
    "    @abstractmethod\n",
    "    def start_engin(self):\n",
    "        pass\n",
    "\n",
    "## derived class1 \n",
    "class Car(Vehicle):\n",
    "    def start_engin(self):\n",
    "        return \"car engin Started\"\n",
    "\n",
    "# Derived class2 \n",
    "class Motorcycle(Vehicle):\n",
    "    def start_engin(self):\n",
    "        return \"MotorCycle is started\"\n",
    "    \n",
    "# fn that demonstrates polymorpism \n",
    "def start_vehicle(Vehicle):\n",
    "    print(Vehicle.start_engin())\n",
    "\n",
    "## Create an objects of car and motorcycle \n",
    "car = Car()\n",
    "motorcycle = Motorcycle()\n",
    "start_vehicle(motorcycle)\n"
   ]
  },
  {
   "cell_type": "code",
   "execution_count": null,
   "metadata": {},
   "outputs": [],
   "source": []
  },
  {
   "cell_type": "code",
   "execution_count": null,
   "metadata": {},
   "outputs": [],
   "source": []
  },
  {
   "cell_type": "code",
   "execution_count": null,
   "metadata": {},
   "outputs": [],
   "source": []
  },
  {
   "cell_type": "code",
   "execution_count": null,
   "metadata": {},
   "outputs": [],
   "source": []
  },
  {
   "cell_type": "code",
   "execution_count": null,
   "metadata": {},
   "outputs": [],
   "source": []
  },
  {
   "cell_type": "code",
   "execution_count": null,
   "metadata": {},
   "outputs": [],
   "source": []
  },
  {
   "cell_type": "code",
   "execution_count": null,
   "metadata": {},
   "outputs": [],
   "source": []
  },
  {
   "cell_type": "code",
   "execution_count": null,
   "metadata": {},
   "outputs": [],
   "source": []
  }
 ],
 "metadata": {
  "kernelspec": {
   "display_name": "Python 3",
   "language": "python",
   "name": "python3"
  },
  "language_info": {
   "codemirror_mode": {
    "name": "ipython",
    "version": 3
   },
   "file_extension": ".py",
   "mimetype": "text/x-python",
   "name": "python",
   "nbconvert_exporter": "python",
   "pygments_lexer": "ipython3",
   "version": "3.10.0"
  }
 },
 "nbformat": 4,
 "nbformat_minor": 2
}
