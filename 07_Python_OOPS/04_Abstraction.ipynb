{
 "cells": [
  {
   "cell_type": "markdown",
   "metadata": {},
   "source": [
    "# Abstraction\n",
    "1. Hiding Complex implementation \n",
    "2. show only necessary features \n",
    "3. Reduce Complexity and effort"
   ]
  },
  {
   "cell_type": "code",
   "execution_count": 2,
   "metadata": {},
   "outputs": [
    {
     "name": "stdout",
     "output_type": "stream",
     "text": [
      "car Engin Started\n",
      "The vehicle is use for driving \n"
     ]
    }
   ],
   "source": [
    "from abc import ABC,abstractmethod\n",
    "\n",
    "# Abstract Class\n",
    "class Vehicle(ABC):\n",
    "    def drive(self):\n",
    "        print(\"The vehicle is use for driving \")\n",
    "\n",
    "    @abstractmethod # --> for using this fn you need to create your own fn with same name \n",
    "    def start_engin(self):\n",
    "        pass\n",
    "    \n",
    "class Car(Vehicle):\n",
    "    def start_engin(self):\n",
    "        print(\"car Engin Started\")\n",
    "\n",
    "def operate_vehicle(Vehicle):\n",
    "    Vehicle.start_engin()\n",
    "    Vehicle.drive()\n",
    "car = Car()\n",
    "operate_vehicle(car)\n"
   ]
  }
 ],
 "metadata": {
  "kernelspec": {
   "display_name": "Python 3",
   "language": "python",
   "name": "python3"
  },
  "language_info": {
   "codemirror_mode": {
    "name": "ipython",
    "version": 3
   },
   "file_extension": ".py",
   "mimetype": "text/x-python",
   "name": "python",
   "nbconvert_exporter": "python",
   "pygments_lexer": "ipython3",
   "version": "3.10.0"
  }
 },
 "nbformat": 4,
 "nbformat_minor": 2
}
