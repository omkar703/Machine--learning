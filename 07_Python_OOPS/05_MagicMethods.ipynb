{
 "cells": [
  {
   "cell_type": "markdown",
   "metadata": {},
   "source": [
    "# Magic Methods \n",
    "    1. it known as dunder methods (double underscore methods)\n",
    "    2. These methods enable you to define the behavior of obj for build-in operations "
   ]
  },
  {
   "cell_type": "markdown",
   "metadata": {},
   "source": [
    "## Examples \n",
    "- '__init__': Initialize a new instance of class\n",
    "- '__str__': Returns a String representation of an object \n",
    "- '__repr__': Returns a official string representation of an object \n",
    "- '__len__': Return the length of an objects \n",
    "- '__getitem__': Gets an item from a container\n",
    "- '__setitem__': sets an item in a Container"
   ]
  },
  {
   "cell_type": "code",
   "execution_count": 2,
   "metadata": {},
   "outputs": [
    {
     "data": {
      "text/plain": [
       "['__class__',\n",
       " '__delattr__',\n",
       " '__dict__',\n",
       " '__dir__',\n",
       " '__doc__',\n",
       " '__eq__',\n",
       " '__format__',\n",
       " '__ge__',\n",
       " '__getattribute__',\n",
       " '__gt__',\n",
       " '__hash__',\n",
       " '__init__',\n",
       " '__init_subclass__',\n",
       " '__le__',\n",
       " '__lt__',\n",
       " '__module__',\n",
       " '__ne__',\n",
       " '__new__',\n",
       " '__reduce__',\n",
       " '__reduce_ex__',\n",
       " '__repr__',\n",
       " '__setattr__',\n",
       " '__sizeof__',\n",
       " '__str__',\n",
       " '__subclasshook__',\n",
       " '__weakref__']"
      ]
     },
     "execution_count": 2,
     "metadata": {},
     "output_type": "execute_result"
    }
   ],
   "source": [
    "class Person():\n",
    "    pass\n",
    "person = Person()\n",
    "dir(person)"
   ]
  },
  {
   "cell_type": "code",
   "execution_count": 3,
   "metadata": {},
   "outputs": [
    {
     "name": "stdout",
     "output_type": "stream",
     "text": [
      "<__main__.Person object at 0x0000019DE03F5C00>\n"
     ]
    }
   ],
   "source": [
    "print(person)"
   ]
  },
  {
   "cell_type": "code",
   "execution_count": 4,
   "metadata": {},
   "outputs": [
    {
     "name": "stdout",
     "output_type": "stream",
     "text": [
      "<__main__.Person object at 0x0000019DE03F6F80>\n"
     ]
    }
   ],
   "source": [
    "## basic magic methods \n",
    "class Person: \n",
    "    def __init__(self,name,age):\n",
    "        self.name = name\n",
    "        self.age = age\n",
    "person = Person(\"omkar\",34)\n",
    "print(person)"
   ]
  },
  {
   "cell_type": "code",
   "execution_count": 7,
   "metadata": {},
   "outputs": [
    {
     "name": "stdout",
     "output_type": "stream",
     "text": [
      "this is omkar,34 year old\n",
      "person(name=omkar,age=34)\n"
     ]
    }
   ],
   "source": [
    "class Person: \n",
    "    def __init__(self,name,age):\n",
    "        self.name = name\n",
    "        self.age = age\n",
    "\n",
    "    def __str__(self):\n",
    "        return f\"this is {self.name},{self.age} year old\"\n",
    "    \n",
    "    def __repr__(self):\n",
    "        return f\"person(name={self.name},age={self.age})\"\n",
    "person = Person(\"omkar\",34)\n",
    "print(person)\n",
    "print(repr(person))"
   ]
  },
  {
   "cell_type": "markdown",
   "metadata": {},
   "source": [
    "# OperateOverHeading \n"
   ]
  },
  {
   "cell_type": "code",
   "execution_count": 9,
   "metadata": {},
   "outputs": [
    {
     "name": "stdout",
     "output_type": "stream",
     "text": [
      "Vector 3,7\n",
      "Vector 6,12\n"
     ]
    }
   ],
   "source": [
    " ## mathamatical operation for vectors \n",
    "class Vector:\n",
    "    def __init__(self,x,y):\n",
    "        self.x =x\n",
    "        self.y = y\n",
    "    def __add__(self,other):\n",
    "        return Vector(self.x+other.x,self.y+other.y)\n",
    "    def __sub__(self,other):\n",
    "        return Vector(self.x-other.x,self.y-other.y)\n",
    "    def __mul__(self,other):\n",
    "        return Vector(self.x*other,self.y*other)\n",
    "    def __eq__(self,other):\n",
    "        return Vector(self.x == other.x,self.y == other.y)\n",
    "    def __repr__(self):\n",
    "        return f\"Vector {self.x},{self.y}\"\n",
    "    \n",
    "# Create object\n",
    "v1 = Vector(2,4)\n",
    "v2 = Vector(1,3)\n",
    "\n",
    "print(v1+ v2)\n",
    "print(v1 * 3)"
   ]
  },
  {
   "cell_type": "code",
   "execution_count": null,
   "metadata": {},
   "outputs": [],
   "source": []
  },
  {
   "cell_type": "code",
   "execution_count": null,
   "metadata": {},
   "outputs": [],
   "source": []
  }
 ],
 "metadata": {
  "kernelspec": {
   "display_name": "Python 3",
   "language": "python",
   "name": "python3"
  },
  "language_info": {
   "codemirror_mode": {
    "name": "ipython",
    "version": 3
   },
   "file_extension": ".py",
   "mimetype": "text/x-python",
   "name": "python",
   "nbconvert_exporter": "python",
   "pygments_lexer": "ipython3",
   "version": "3.10.0"
  }
 },
 "nbformat": 4,
 "nbformat_minor": 2
}
