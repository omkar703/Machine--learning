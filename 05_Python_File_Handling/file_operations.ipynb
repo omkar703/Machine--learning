{
 "cells": [
  {
   "cell_type": "markdown",
   "metadata": {},
   "source": [
    "# File Operations -- read"
   ]
  },
  {
   "cell_type": "code",
   "execution_count": 2,
   "metadata": {},
   "outputs": [
    {
     "name": "stdout",
     "output_type": "stream",
     "text": [
      "how are you ?\n",
      "i am good\n",
      "are you there \n",
      "i am omkar this side \n",
      "can you catch me if you can \n",
      "\n"
     ]
    }
   ],
   "source": [
    "# file handling\n",
    "with open('examples.txt','r') as file:\n",
    "    content =  file.read()\n",
    "    print(content)"
   ]
  },
  {
   "cell_type": "code",
   "execution_count": 4,
   "metadata": {},
   "outputs": [
    {
     "name": "stdout",
     "output_type": "stream",
     "text": [
      "how are you ?\n",
      "i am good\n",
      "are you there\n",
      "i am omkar this side\n",
      "can you catch me if you can\n"
     ]
    }
   ],
   "source": [
    "# read a file line by line\n",
    "with open('examples.txt','r') as file:\n",
    "    for line in file:\n",
    "        print(line.strip()) # strip --> remove the newline char\n",
    "        "
   ]
  },
  {
   "cell_type": "code",
   "execution_count": 5,
   "metadata": {},
   "outputs": [],
   "source": [
    "# write a file overwrite\n",
    "with open('examples.txt','w') as file:\n",
    "    file.write('hello world \\n')\n",
    "    file.write('this is a new line \\n')"
   ]
  },
  {
   "cell_type": "code",
   "execution_count": 6,
   "metadata": {},
   "outputs": [
    {
     "name": "stdout",
     "output_type": "stream",
     "text": [
      "hello world\n",
      "this is a new line\n"
     ]
    }
   ],
   "source": [
    "with open('examples.txt','r') as file:\n",
    "    for line in file:\n",
    "        print(line.strip())"
   ]
  },
  {
   "cell_type": "code",
   "execution_count": 8,
   "metadata": {},
   "outputs": [],
   "source": [
    "# write a file without overwriting\n",
    "with open('examples.txt','a') as file:\n",
    "    file.write('  Append Opeation taking place ! \\n')"
   ]
  },
  {
   "cell_type": "code",
   "execution_count": 9,
   "metadata": {},
   "outputs": [],
   "source": [
    "# writing a list of lines \n",
    "lines = ['first line \\n','second line \\n','third line \\n']\n",
    "with open('examples.txt','a') as files:\n",
    "    files.writelines(lines)"
   ]
  },
  {
   "cell_type": "code",
   "execution_count": 10,
   "metadata": {},
   "outputs": [],
   "source": [
    "# Working with binary files (.bin)\n",
    "# writing \n",
    "data = b'\\x00\\x01\\x02\\x03\\x04'\n",
    "with open('examples.bin','wb') as file: # wb --> write bit code\n",
    "    file.write(data)\n",
    "    "
   ]
  },
  {
   "cell_type": "code",
   "execution_count": 16,
   "metadata": {},
   "outputs": [
    {
     "name": "stdout",
     "output_type": "stream",
     "text": [
      "b'\\x00\\x01\\x02\\x03\\x04'\n"
     ]
    }
   ],
   "source": [
    "with open('examples.bin','rb') as file: # rb --> read bit code\n",
    "        content = file.read()\n",
    "        print(content)"
   ]
  },
  {
   "cell_type": "code",
   "execution_count": 17,
   "metadata": {},
   "outputs": [],
   "source": [
    "# Read the file form content form source and write to a destination text file \n",
    "with open('examples.txt','r') as source_file:\n",
    "    content = source_file.read()\n",
    "with open('destination.txt','w') as destination_file:\n",
    "    destination_file.write(content)\n"
   ]
  },
  {
   "cell_type": "code",
   "execution_count": 18,
   "metadata": {},
   "outputs": [
    {
     "name": "stdout",
     "output_type": "stream",
     "text": [
      "hello world \n",
      "this is a new line \n",
      "\n"
     ]
    }
   ],
   "source": [
    "# writing and reading a file \n",
    "# w+ --> for read and write both \n",
    "with open('examples.txt','w+') as file:\n",
    "    file.write('hello world \\n')\n",
    "    file.write('this is a new line \\n')\n",
    "\n",
    "# move the corsor to the beginning\n",
    "    file.seek(0)\n",
    "    # cursor go to 0\n",
    "    content = file.read()\n",
    "    print(content)"
   ]
  },
  {
   "cell_type": "markdown",
   "metadata": {},
   "source": [
    "# Path Handling "
   ]
  },
  {
   "cell_type": "code",
   "execution_count": 19,
   "metadata": {},
   "outputs": [
    {
     "name": "stdout",
     "output_type": "stream",
     "text": [
      "Dir 'package' create\n"
     ]
    }
   ],
   "source": [
    "# Creating a new dir \n",
    "import os \n",
    "new_dir = 'package'\n",
    "os.mkdir(new_dir)\n",
    "print(f\"Dir '{new_dir}' create\")"
   ]
  },
  {
   "cell_type": "code",
   "execution_count": 21,
   "metadata": {},
   "outputs": [
    {
     "name": "stdout",
     "output_type": "stream",
     "text": [
      "['destination.txt', 'examples.bin', 'examples.txt', 'file_operations.ipynb', 'package']\n"
     ]
    }
   ],
   "source": [
    "# list files and dir \n",
    "# --> Show all the list \n",
    "list = os.listdir('.')\n",
    "print(list)"
   ]
  },
  {
   "cell_type": "code",
   "execution_count": 24,
   "metadata": {},
   "outputs": [
    {
     "name": "stdout",
     "output_type": "stream",
     "text": [
      "d:\\ML\\CODE\\05_Python_File_Handling\\folder\\file.txt\n"
     ]
    }
   ],
   "source": [
    "# joining path \n",
    "dir_name  = 'folder'\n",
    "file_name = 'file.txt'\n",
    "full_path = os.path.join(os.getcwd(),dir_name,file_name)\n",
    "print(full_path)"
   ]
  },
  {
   "cell_type": "code",
   "execution_count": 27,
   "metadata": {},
   "outputs": [
    {
     "name": "stdout",
     "output_type": "stream",
     "text": [
      "the file 'example10.txt' is not exist\n"
     ]
    }
   ],
   "source": [
    "path='example10.txt'\n",
    "if os.path.exists(path):\n",
    "    print(f\"the path '{path}' exists\")\n",
    "else:\n",
    "    print(f\"the file '{path}' is not exist\")"
   ]
  },
  {
   "cell_type": "code",
   "execution_count": 28,
   "metadata": {},
   "outputs": [
    {
     "name": "stdout",
     "output_type": "stream",
     "text": [
      "d:\\ML\\CODE\\05_Python_File_Handling\\example.txt\n"
     ]
    }
   ],
   "source": [
    "# geting the absoult path\n",
    "realtive_file = \"example.txt\"\n",
    "absolute_path = os.path.abspath(realtive_file)\n",
    "print(absolute_path)"
   ]
  }
 ],
 "metadata": {
  "kernelspec": {
   "display_name": "Python 3",
   "language": "python",
   "name": "python3"
  },
  "language_info": {
   "codemirror_mode": {
    "name": "ipython",
    "version": 3
   },
   "file_extension": ".py",
   "mimetype": "text/x-python",
   "name": "python",
   "nbconvert_exporter": "python",
   "pygments_lexer": "ipython3",
   "version": "3.10.0"
  }
 },
 "nbformat": 4,
 "nbformat_minor": 2
}
