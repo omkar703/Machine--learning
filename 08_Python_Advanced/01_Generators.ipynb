{
 "cells": [
  {
   "cell_type": "markdown",
   "metadata": {},
   "source": [
    "# Generators \n",
    "    1. it is simple way to create iterators "
   ]
  },
  {
   "cell_type": "code",
   "execution_count": 3,
   "metadata": {},
   "outputs": [],
   "source": [
    "def square(n):\n",
    "    for i in range(3):\n",
    "        yield i ** 2\n",
    "    # save that value and also return it "
   ]
  },
  {
   "cell_type": "code",
   "execution_count": 5,
   "metadata": {},
   "outputs": [
    {
     "name": "stdout",
     "output_type": "stream",
     "text": [
      "<generator object square at 0x000001F40E48BCA0>\n"
     ]
    }
   ],
   "source": [
    "square(3)"
   ]
  },
  {
   "cell_type": "code",
   "execution_count": 6,
   "metadata": {},
   "outputs": [
    {
     "name": "stdout",
     "output_type": "stream",
     "text": [
      "0\n",
      "1\n",
      "4\n"
     ]
    }
   ],
   "source": [
    "for i in square(3):\n",
    "    print(i)"
   ]
  },
  {
   "cell_type": "code",
   "execution_count": 7,
   "metadata": {},
   "outputs": [
    {
     "data": {
      "text/plain": [
       "<generator object square at 0x000001F40E4C9B60>"
      ]
     },
     "execution_count": 7,
     "metadata": {},
     "output_type": "execute_result"
    }
   ],
   "source": [
    "a = square(3)\n",
    "a"
   ]
  },
  {
   "cell_type": "code",
   "execution_count": 8,
   "metadata": {},
   "outputs": [
    {
     "data": {
      "text/plain": [
       "0"
      ]
     },
     "execution_count": 8,
     "metadata": {},
     "output_type": "execute_result"
    }
   ],
   "source": [
    "next(a)"
   ]
  },
  {
   "cell_type": "code",
   "execution_count": 9,
   "metadata": {},
   "outputs": [
    {
     "data": {
      "text/plain": [
       "1"
      ]
     },
     "execution_count": 9,
     "metadata": {},
     "output_type": "execute_result"
    }
   ],
   "source": [
    "next(a)"
   ]
  },
  {
   "cell_type": "code",
   "execution_count": 10,
   "metadata": {},
   "outputs": [
    {
     "data": {
      "text/plain": [
       "4"
      ]
     },
     "execution_count": 10,
     "metadata": {},
     "output_type": "execute_result"
    }
   ],
   "source": [
    "next(a)"
   ]
  },
  {
   "cell_type": "code",
   "execution_count": 11,
   "metadata": {},
   "outputs": [],
   "source": [
    "def my_generator():\n",
    "    yield 1\n",
    "    yield 2\n",
    "    yield 3\n",
    "    "
   ]
  },
  {
   "cell_type": "code",
   "execution_count": 12,
   "metadata": {},
   "outputs": [
    {
     "data": {
      "text/plain": [
       "<generator object my_generator at 0x000001F40F4C2570>"
      ]
     },
     "execution_count": 12,
     "metadata": {},
     "output_type": "execute_result"
    }
   ],
   "source": [
    "my_generator()"
   ]
  },
  {
   "cell_type": "code",
   "execution_count": 14,
   "metadata": {},
   "outputs": [
    {
     "name": "stdout",
     "output_type": "stream",
     "text": [
      "1\n",
      "2\n",
      "3\n"
     ]
    }
   ],
   "source": [
    "for i in my_generator():\n",
    "    print(i)"
   ]
  },
  {
   "cell_type": "code",
   "execution_count": null,
   "metadata": {},
   "outputs": [],
   "source": [
    "# Generator are used to read large files that allows to process one line at a time without loading the entire file into memory "
   ]
  },
  {
   "cell_type": "code",
   "execution_count": 15,
   "metadata": {},
   "outputs": [],
   "source": [
    "def read_large_file(file_path):\n",
    "    with open(file_path,'r') as file:\n",
    "        for line in file:\n",
    "            yield line\n",
    "        "
   ]
  },
  {
   "cell_type": "code",
   "execution_count": 16,
   "metadata": {},
   "outputs": [
    {
     "name": "stdout",
     "output_type": "stream",
     "text": [
      "Lorem ipsum dolor sit amet consectetur adipisicing elit. Voluptas accusamus sed quos distinctio est nemo at ad sapiente dolor numquam repudiandae laboriosam reiciendis ullam voluptate rerum doloribus commodi rem, obcaecati quaerat repellendus! Dignissimos, repudiandae, magnam ut asperiores aliquam, officiis maiores perferendis ipsum tempora a delectus odit unde pariatur amet distinctio. Nam quae fugit mollitia reiciendis ea. Assumenda, libero quidem? Rem odio quo illum, aperiam repellat, optio repudiandae, qui sapiente ut alias rerum consectetur. Hic aliquid error illo consectetur quisquam debitis iure repellendus ullam voluptates dolores vero eligendi nostrum qui, magnam delectus. Harum dolores exercitationem quod quia quibusdam nulla reiciendis voluptatibus eaque blanditiis fuga, alias consequatur. Et dolorum velit vel numquam qui soluta repudiandae molestias voluptates totam. Dicta eaque voluptas quisquam sapiente reprehenderit, ab nulla dolores a, repudiandae sunt, earum cupiditate inventore laborum aut minima veniam eos in! Nemo aut excepturi soluta repellendus exercitationem placeat explicabo voluptatum, voluptates consequatur, rem cumque reiciendis itaque ullam dignissimos perspiciatis. Dignissimos iusto, ab amet aperiam magnam, consequuntur, incidunt officiis debitis ad facere hic nisi. Architecto ex tempora reprehenderit doloribus incidunt, veniam quod odit aliquid. Eveniet sapiente architecto atque quaerat eos? Amet repellat asperiores minus impedit iusto, consequuntur vero eveniet repellendus vitae voluptates praesentium sequi, deleniti iure nostrum dolorum aspernatur labore atque sapiente dolore magnam maxime recusandae architecto? Quae quidem officia possimus numquam beatae quo illo architecto vitae, iste nostrum vel repudiandae explicabo aliquam eius, excepturi sint. Iste maxime quae blanditiis, excepturi soluta deserunt incidunt culpa sit ratione non iure exercitationem eum aperiam adipisci veritatis quisquam amet nesciunt possimus sunt. Error, possimus aliquid? Laborum quod natus, quaerat voluptates rerum quia placeat amet aspernatur minima saepe nihil! Minima in, odio, adipisci ullam sed accusamus esse libero dolorem qui soluta autem architecto, corrupti non perspiciatis harum similique? Eaque velit eius cumque veniam dolorum modi hic nihil cum nulla corporis ab porro, accusantium iusto asperiores recusandae ea maiores tempore ad magni voluptatum? Sint ipsa provident eligendi nemo? Harum odio, cumque illum quas amet nisi. Vero quidem non deserunt rem sit ipsum sequi incidunt in id ipsa fugit qui cupiditate, sunt nam impedit quas expedita suscipit hic assumenda! Nulla, reiciendis officia atque maxime eveniet veniam pariatur accusamus. Asperiores eius reprehenderit qui aspernatur veniam facilis dolorem, unde quisquam, eaque, magni labore optio blanditiis aliquid eveniet tenetur commodi atque repellat repellendus! Reprehenderit sunt dolorem perspiciatis aspernatur magni velit, unde nihil harum dignissimos voluptas? At sunt, dolores, vero maiores debitis voluptates aliquid saepe, totam voluptate qui minus mollitia quaerat omnis impedit numquam? Unde quaerat, magni obcaecati incidunt eveniet ab consequatur, eligendi quidem voluptas impedit architecto eius deserunt et explicabo. Animi molestiae atque voluptatibus amet fugit itaque eligendi, est tempore veritatis iure adipisci assumenda, magni vitae unde impedit hic earum natus dolore ratione, sapiente placeat temporibus accusamus quia. Delectus quisquam natus adipisci laboriosam. Quasi odio doloribus delectus. Explicabo quo possimus eveniet rerum aperiam impedit ea. Placeat magni consectetur at libero inventore eos autem nulla asperiores voluptatem? In blanditiis velit vel? Iure nemo fugit dolorum, excepturi soluta accusantium saepe placeat corrupti quia ipsum cum nulla ducimus similique? Cumque, iste iusto corporis delectus repellat ab? Ducimus animi ea quos nisi voluptatem, obcaecati libero explicabo magni, doloribus nemo cum soluta nesciunt, omnis esse consequatur voluptate aspernatur illo. Ex quisquam neque, vero voluptas, aut sunt eligendi consectetur est eius fugiat reprehenderit hic, architecto excepturi harum. Dolor in repellat cumque esse optio reiciendis dicta, aut, dolores libero, provident culpa quos atque. Cumque temporibus corporis libero, aut perferendis reprehenderit consequuntur, ipsum aliquid accusantium tempore ratione. Facilis laudantium optio ipsam fugit, repudiandae praesentium consequuntur, necessitatibus eius incidunt perferendis minus quam vero inventore possimus aut illum amet tenetur perspiciatis, corrupti mollitia assumenda qui. Similique omnis nobis unde voluptatum. Molestiae magnam sapiente quaerat quisquam provident pariatur repellendus atque dolorem cumque sequi! Reiciendis quos consequuntur nihil cumque corrupti eius nulla distinctio voluptatibus dolores cupiditate ad architecto dicta, magni dignissimos eos, numquam illum, quaerat pariatur. Quibusdam ut expedita repudiandae libero minima. Exercitationem mollitia porro doloribus adipisci in dolores, quae magni vero repellat deserunt ab vel doloremque temporibus, quaerat distinctio fugit expedita aspernatur accusamus maxime maiores qui. Ducimus, suscipit esse nam aut blanditiis non amet animi! Quos inventore vero hic necessitatibus excepturi placeat neque non voluptatum accusantium illum quod dignissimos quae quo, reiciendis numquam ut quibusdam corrupti rem sunt doloremque odit? Rerum ad at consequatur numquam. Praesentium doloribus molestias deserunt, commodi maxime quo deleniti quisquam explicabo dolor voluptas excepturi, in amet eius sed delectus, harum fugiat qui placeat facere. Dolor velit voluptates neque qui minus eaque atque excepturi? Voluptatibus incidunt itaque molestiae est nesciunt velit laborum, et nulla cupiditate quos, nisi, omnis facere doloribus expedita exercitationem voluptas accusamus ipsum. Quibusdam recusandae reiciendis est deleniti ipsum facere repellendus dolores, repudiandae sequi. Delectus aliquam, cumque, consequuntur molestias deleniti quos officia aut deserunt animi similique qui omnis unde ab. Aliquid cum dolorum illum praesentium adipisci possimus similique nisi omnis, veritatis distinctio, beatae accusantium quas facere nostrum mollitia veniam repellat unde aperiam at reiciendis minima maiores. Ex, blanditiis totam, minus in culpa vero voluptatem amet ut id fugiat dolores. Nulla doloremque natus totam quia ex dolor ea provident pariatur illo, eius iste assumenda. Fugit mollitia suscipit, quibusdam sapiente unde rem quia deserunt quis aut recusandae officia aperiam exercitationem repudiandae dolores aspernatur tempore nihil assumenda quaerat maiores adipisci quisquam doloribus! Voluptas amet deserunt ratione officiis explicabo, mollitia recusandae inventore perferendis, laudantium sunt veritatis ipsum iste vel odio tempora beatae blanditiis similique maiores quo doloremque error fugiat itaque. Suscipit ipsam voluptatem ipsum sunt! Velit, dolores veniam consequatur vel accusantium facere eveniet rerum. Ipsam autem optio possimus deserunt nihil? Nemo optio voluptatem iste voluptates inventore molestiae soluta vero dolorem porro perspiciatis illum, libero minima, laboriosam, accusamus asperiores sequi. Quas fugit alias tempore, doloribus aliquam corporis ea sapiente sequi et laudantium odit ipsam enim maxime neque dolore hic laborum non sit deserunt illo, debitis exercitationem eligendi! Debitis totam obcaecati, perspiciatis nobis esse repudiandae illo iusto dolore laudantium beatae voluptate ex amet facilis numquam quia eius assumenda nisi suscipit in tempora voluptas. Quia, quisquam quas iusto recusandae pariatur obcaecati ab repellendus laborum. Neque, eveniet. Sit.\n"
     ]
    }
   ],
   "source": [
    "file_path = 'large_file.txt'\n",
    "for line in read_large_file(file_path):\n",
    "    print(line.strip())"
   ]
  },
  {
   "cell_type": "code",
   "execution_count": null,
   "metadata": {},
   "outputs": [],
   "source": []
  }
 ],
 "metadata": {
  "kernelspec": {
   "display_name": "Python 3",
   "language": "python",
   "name": "python3"
  },
  "language_info": {
   "codemirror_mode": {
    "name": "ipython",
    "version": 3
   },
   "file_extension": ".py",
   "mimetype": "text/x-python",
   "name": "python",
   "nbconvert_exporter": "python",
   "pygments_lexer": "ipython3",
   "version": "3.10.0"
  }
 },
 "nbformat": 4,
 "nbformat_minor": 2
}
