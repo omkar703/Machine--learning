{
 "cells": [
  {
   "cell_type": "markdown",
   "metadata": {},
   "source": [
    "# Pandas-DataFrame and Series\n",
    "    1.data analysis and data cleaning \n",
    "    2.Provide two type of data structure \n",
    "        1.Series --> 1D array object\n",
    "        2.DataFrame --> 2D"
   ]
  },
  {
   "cell_type": "code",
   "execution_count": 1,
   "metadata": {},
   "outputs": [
    {
     "name": "stdout",
     "output_type": "stream",
     "text": [
      "Requirement already satisfied: pandas in d:\\ml\\code\\venv\\lib\\site-packages (2.2.3)\n",
      "Requirement already satisfied: numpy>=1.22.4 in d:\\ml\\code\\venv\\lib\\site-packages (from pandas) (2.2.0)\n",
      "Requirement already satisfied: python-dateutil>=2.8.2 in d:\\ml\\code\\venv\\lib\\site-packages (from pandas) (2.9.0.post0)\n",
      "Requirement already satisfied: pytz>=2020.1 in d:\\ml\\code\\venv\\lib\\site-packages (from pandas) (2024.2)\n",
      "Requirement already satisfied: tzdata>=2022.7 in d:\\ml\\code\\venv\\lib\\site-packages (from pandas) (2024.2)\n",
      "Requirement already satisfied: six>=1.5 in d:\\ml\\code\\venv\\lib\\site-packages (from python-dateutil>=2.8.2->pandas) (1.17.0)\n"
     ]
    }
   ],
   "source": [
    "!pip install pandas"
   ]
  },
  {
   "cell_type": "code",
   "execution_count": 9,
   "metadata": {},
   "outputs": [],
   "source": [
    "import pandas as pd\n"
   ]
  },
  {
   "cell_type": "code",
   "execution_count": 3,
   "metadata": {},
   "outputs": [
    {
     "name": "stdout",
     "output_type": "stream",
     "text": [
      "Series \n",
      " 0    1\n",
      "1    2\n",
      "2    3\n",
      "3    4\n",
      "4    5\n",
      "dtype: int64\n",
      "<class 'pandas.core.series.Series'>\n"
     ]
    }
   ],
   "source": [
    "# Series \n",
    "# --> 1D array that can hold any data type \n",
    "# similar to column table \n",
    "data=[1,2,3,4,5]\n",
    "series = pd.Series(data)\n",
    "print(\"Series \\n\",series)\n",
    "print(type(series))"
   ]
  },
  {
   "cell_type": "code",
   "execution_count": 5,
   "metadata": {},
   "outputs": [
    {
     "name": "stdout",
     "output_type": "stream",
     "text": [
      "a    1\n",
      "b    2\n",
      "c    3\n",
      "dtype: int64\n"
     ]
    }
   ],
   "source": [
    "## Create a Series form dictionary element \n",
    "data = {'a':1,'b':2,'c':3}\n",
    "series_dic = pd.Series(data)\n",
    "print(series_dic)"
   ]
  },
  {
   "cell_type": "code",
   "execution_count": 10,
   "metadata": {},
   "outputs": [
    {
     "data": {
      "text/plain": [
       "a    10\n",
       "b    20\n",
       "c    30\n",
       "dtype: int64"
      ]
     },
     "execution_count": 10,
     "metadata": {},
     "output_type": "execute_result"
    }
   ],
   "source": [
    "data = [10,20,30]\n",
    "index = ['a','b','c']\n",
    "pd.Series(data,index = index)"
   ]
  },
  {
   "cell_type": "code",
   "execution_count": 20,
   "metadata": {},
   "outputs": [
    {
     "name": "stdout",
     "output_type": "stream",
     "text": [
      "<class 'pandas.core.frame.DataFrame'>\n",
      "    name  Age    City\n",
      "0  Krish   23  barily\n",
      "1  omkar   22  Satara\n",
      "2     om   45    pune\n"
     ]
    }
   ],
   "source": [
    "## Data Frame --> having multiple rows and columns \n",
    "# 2D mutable \n",
    "# Create a dataframe form dic of list \n",
    "data={\n",
    "    'name':['Krish','omkar','om'],\n",
    "    'Age' :[23,22,45],\n",
    "    'City' : [\"barily\",'Satara','pune']\n",
    "}\n",
    "df = pd.DataFrame(data)\n",
    "print(type(df))\n",
    "print(df)"
   ]
  },
  {
   "cell_type": "code",
   "execution_count": 21,
   "metadata": {},
   "outputs": [
    {
     "data": {
      "text/plain": [
       "array([['Krish', 23, 'barily'],\n",
       "       ['omkar', 22, 'Satara'],\n",
       "       ['om', 45, 'pune']], dtype=object)"
      ]
     },
     "execution_count": 21,
     "metadata": {},
     "output_type": "execute_result"
    }
   ],
   "source": [
    "import numpy as np\n",
    "np.array(df)\n"
   ]
  },
  {
   "cell_type": "code",
   "execution_count": 22,
   "metadata": {},
   "outputs": [
    {
     "name": "stdout",
     "output_type": "stream",
     "text": [
      "<class 'pandas.core.frame.DataFrame'>\n",
      "    name  age  city\n",
      "0  krish   23  pune\n",
      "1  omkar   20  beed\n",
      "2  rajiv   22  loni\n"
     ]
    }
   ],
   "source": [
    "# Create a DataFrame from list of dic \n",
    "data = [\n",
    "    {'name':'krish','age':23,'city':'pune'},\n",
    "    {'name':'omkar','age':20,'city':'beed'},\n",
    "    {'name':'rajiv','age':22,'city':'loni'},\n",
    "] \n",
    "df = pd.DataFrame(data)\n",
    "print(type(df))\n",
    "print(df)"
   ]
  },
  {
   "cell_type": "code",
   "execution_count": 24,
   "metadata": {},
   "outputs": [
    {
     "data": {
      "text/html": [
       "<div>\n",
       "<style scoped>\n",
       "    .dataframe tbody tr th:only-of-type {\n",
       "        vertical-align: middle;\n",
       "    }\n",
       "\n",
       "    .dataframe tbody tr th {\n",
       "        vertical-align: top;\n",
       "    }\n",
       "\n",
       "    .dataframe thead th {\n",
       "        text-align: right;\n",
       "    }\n",
       "</style>\n",
       "<table border=\"1\" class=\"dataframe\">\n",
       "  <thead>\n",
       "    <tr style=\"text-align: right;\">\n",
       "      <th></th>\n",
       "      <th>Timestamp</th>\n",
       "      <th>Name</th>\n",
       "      <th>Registration No.</th>\n",
       "      <th>Transaction ID</th>\n",
       "      <th>Amount:</th>\n",
       "      <th>Paid To:</th>\n",
       "      <th>Room No:</th>\n",
       "      <th>Bank Name</th>\n",
       "      <th>Email address</th>\n",
       "    </tr>\n",
       "  </thead>\n",
       "  <tbody>\n",
       "    <tr>\n",
       "      <th>0</th>\n",
       "      <td>NaN</td>\n",
       "      <td>NaN</td>\n",
       "      <td>NaN</td>\n",
       "      <td>NaN</td>\n",
       "      <td>NaN</td>\n",
       "      <td>NaN</td>\n",
       "      <td>NaN</td>\n",
       "      <td>NaN</td>\n",
       "      <td>NaN</td>\n",
       "    </tr>\n",
       "    <tr>\n",
       "      <th>1</th>\n",
       "      <td>9/15/2024 22:11:18</td>\n",
       "      <td>likhit sharma</td>\n",
       "      <td>24bce10112</td>\n",
       "      <td>425900980984</td>\n",
       "      <td>151.0</td>\n",
       "      <td>deb</td>\n",
       "      <td>332</td>\n",
       "      <td>bank of baroda</td>\n",
       "      <td>likhit.24bce10112@vitbhopal.ac.in</td>\n",
       "    </tr>\n",
       "    <tr>\n",
       "      <th>2</th>\n",
       "      <td>9/15/2024 22:14:20</td>\n",
       "      <td>Nirvan shashi singh</td>\n",
       "      <td>23BAI11030</td>\n",
       "      <td>462538384105</td>\n",
       "      <td>151.0</td>\n",
       "      <td>Debjyoti mitra</td>\n",
       "      <td>A-347</td>\n",
       "      <td>Icici</td>\n",
       "      <td>nirvan.23bai11030@vitbhopal.ac.in</td>\n",
       "    </tr>\n",
       "    <tr>\n",
       "      <th>3</th>\n",
       "      <td>9/15/2024 22:20:44</td>\n",
       "      <td>Eshant Baranwal</td>\n",
       "      <td>24BCY10212</td>\n",
       "      <td>425920871395</td>\n",
       "      <td>151.0</td>\n",
       "      <td>Debjyoti mitra</td>\n",
       "      <td>A-346</td>\n",
       "      <td>Bank of Baroda</td>\n",
       "      <td>eshant.24bcy10212@vitbhopal.ac.in</td>\n",
       "    </tr>\n",
       "    <tr>\n",
       "      <th>4</th>\n",
       "      <td>9/15/2024 22:21:13</td>\n",
       "      <td>Shubhankan Kumar</td>\n",
       "      <td>24bce11144</td>\n",
       "      <td>425970282360</td>\n",
       "      <td>200.0</td>\n",
       "      <td>Deb</td>\n",
       "      <td>A337</td>\n",
       "      <td>Hdfc bank</td>\n",
       "      <td>shubhankan.24bce11144@vitbhopal.ac.in</td>\n",
       "    </tr>\n",
       "  </tbody>\n",
       "</table>\n",
       "</div>"
      ],
      "text/plain": [
       "            Timestamp                  Name Registration No. Transaction ID  \\\n",
       "0                 NaN                   NaN              NaN            NaN   \n",
       "1  9/15/2024 22:11:18         likhit sharma       24bce10112   425900980984   \n",
       "2  9/15/2024 22:14:20  Nirvan shashi singh       23BAI11030    462538384105   \n",
       "3  9/15/2024 22:20:44      Eshant Baranwal        24BCY10212   425920871395   \n",
       "4  9/15/2024 22:21:13     Shubhankan Kumar        24bce11144   425970282360   \n",
       "\n",
       "   Amount:         Paid To: Room No:        Bank Name  \\\n",
       "0      NaN              NaN      NaN              NaN   \n",
       "1    151.0              deb      332   bank of baroda   \n",
       "2    151.0   Debjyoti mitra    A-347           Icici    \n",
       "3    151.0  Debjyoti mitra     A-346  Bank of Baroda    \n",
       "4    200.0              Deb     A337        Hdfc bank   \n",
       "\n",
       "                           Email address  \n",
       "0                                    NaN  \n",
       "1      likhit.24bce10112@vitbhopal.ac.in  \n",
       "2      nirvan.23bai11030@vitbhopal.ac.in  \n",
       "3      eshant.24bcy10212@vitbhopal.ac.in  \n",
       "4  shubhankan.24bce11144@vitbhopal.ac.in  "
      ]
     },
     "execution_count": 24,
     "metadata": {},
     "output_type": "execute_result"
    }
   ],
   "source": [
    "df = pd.read_csv('Payment.csv')\n",
    "df.head(5)"
   ]
  },
  {
   "cell_type": "code",
   "execution_count": 25,
   "metadata": {},
   "outputs": [
    {
     "data": {
      "text/html": [
       "<div>\n",
       "<style scoped>\n",
       "    .dataframe tbody tr th:only-of-type {\n",
       "        vertical-align: middle;\n",
       "    }\n",
       "\n",
       "    .dataframe tbody tr th {\n",
       "        vertical-align: top;\n",
       "    }\n",
       "\n",
       "    .dataframe thead th {\n",
       "        text-align: right;\n",
       "    }\n",
       "</style>\n",
       "<table border=\"1\" class=\"dataframe\">\n",
       "  <thead>\n",
       "    <tr style=\"text-align: right;\">\n",
       "      <th></th>\n",
       "      <th>Timestamp</th>\n",
       "      <th>Name</th>\n",
       "      <th>Registration No.</th>\n",
       "      <th>Transaction ID</th>\n",
       "      <th>Amount:</th>\n",
       "      <th>Paid To:</th>\n",
       "      <th>Room No:</th>\n",
       "      <th>Bank Name</th>\n",
       "      <th>Email address</th>\n",
       "    </tr>\n",
       "  </thead>\n",
       "  <tbody>\n",
       "    <tr>\n",
       "      <th>10</th>\n",
       "      <td>9/15/2024 22:40:20</td>\n",
       "      <td>Priyanshu gupta</td>\n",
       "      <td>24BCY10320</td>\n",
       "      <td>462578885237</td>\n",
       "      <td>151.0</td>\n",
       "      <td>Dev jyoti</td>\n",
       "      <td>A332</td>\n",
       "      <td>Punjab National Bank</td>\n",
       "      <td>priyanshu.24bcy10320@vitbhopal.ac.in</td>\n",
       "    </tr>\n",
       "    <tr>\n",
       "      <th>11</th>\n",
       "      <td>9/15/2024 22:45:47</td>\n",
       "      <td>PRATYUSH RAKECHA</td>\n",
       "      <td>24BCE10769</td>\n",
       "      <td>425954841248</td>\n",
       "      <td>151.0</td>\n",
       "      <td>Debjyoti mitra</td>\n",
       "      <td>A 352D</td>\n",
       "      <td>SBI</td>\n",
       "      <td>pratyush.24bce10769@vitbhopal.ac.in</td>\n",
       "    </tr>\n",
       "    <tr>\n",
       "      <th>12</th>\n",
       "      <td>9/15/2024 22:45:55</td>\n",
       "      <td>Devesh Agarwal</td>\n",
       "      <td>24BAI10908</td>\n",
       "      <td>425954590514</td>\n",
       "      <td>151.0</td>\n",
       "      <td>Debjyoti</td>\n",
       "      <td>A342</td>\n",
       "      <td>Bank of India</td>\n",
       "      <td>devesh.24bai10908@vitbhopal.ac.in</td>\n",
       "    </tr>\n",
       "    <tr>\n",
       "      <th>13</th>\n",
       "      <td>9/15/2024 22:54:13</td>\n",
       "      <td>Hemendra Singh</td>\n",
       "      <td>23BAI11347</td>\n",
       "      <td>462567672143</td>\n",
       "      <td>151.0</td>\n",
       "      <td>Debjyoti Mitra</td>\n",
       "      <td>Block 1 A 324</td>\n",
       "      <td>Indian Bank</td>\n",
       "      <td>hemendra.23bai11347@vitbhopal.ac.in</td>\n",
       "    </tr>\n",
       "    <tr>\n",
       "      <th>14</th>\n",
       "      <td>9/15/2024 22:59:17</td>\n",
       "      <td>SHIVANCHAL YADAV</td>\n",
       "      <td>24BCE10217</td>\n",
       "      <td>425968460036</td>\n",
       "      <td>151.0</td>\n",
       "      <td>Debjyoti</td>\n",
       "      <td>325</td>\n",
       "      <td>Canara</td>\n",
       "      <td>shivanchal.24bce10217@vitbhopal.ac.in</td>\n",
       "    </tr>\n",
       "  </tbody>\n",
       "</table>\n",
       "</div>"
      ],
      "text/plain": [
       "             Timestamp               Name Registration No. Transaction ID  \\\n",
       "10  9/15/2024 22:40:20   Priyanshu gupta        24BCY10320   462578885237   \n",
       "11  9/15/2024 22:45:47  PRATYUSH RAKECHA       24BCE10769    425954841248   \n",
       "12  9/15/2024 22:45:55     Devesh Agarwal       24BAI10908   425954590514   \n",
       "13  9/15/2024 22:54:13    Hemendra Singh        23BAI11347   462567672143   \n",
       "14  9/15/2024 22:59:17  SHIVANCHAL YADAV       24BCE10217    425968460036   \n",
       "\n",
       "    Amount:        Paid To:       Room No:              Bank Name  \\\n",
       "10    151.0       Dev jyoti           A332  Punjab National Bank    \n",
       "11    151.0  Debjyoti mitra         A 352D                    SBI   \n",
       "12    151.0        Debjyoti           A342          Bank of India   \n",
       "13    151.0  Debjyoti Mitra  Block 1 A 324           Indian Bank    \n",
       "14    151.0        Debjyoti            325                 Canara   \n",
       "\n",
       "                            Email address  \n",
       "10   priyanshu.24bcy10320@vitbhopal.ac.in  \n",
       "11    pratyush.24bce10769@vitbhopal.ac.in  \n",
       "12      devesh.24bai10908@vitbhopal.ac.in  \n",
       "13    hemendra.23bai11347@vitbhopal.ac.in  \n",
       "14  shivanchal.24bce10217@vitbhopal.ac.in  "
      ]
     },
     "execution_count": 25,
     "metadata": {},
     "output_type": "execute_result"
    }
   ],
   "source": [
    "df.tail(5)"
   ]
  },
  {
   "cell_type": "code",
   "execution_count": 26,
   "metadata": {},
   "outputs": [
    {
     "data": {
      "text/plain": [
       "[{'name': 'krish', 'age': 23, 'city': 'pune'},\n",
       " {'name': 'omkar', 'age': 20, 'city': 'beed'},\n",
       " {'name': 'rajiv', 'age': 22, 'city': 'loni'}]"
      ]
     },
     "execution_count": 26,
     "metadata": {},
     "output_type": "execute_result"
    }
   ],
   "source": [
    "## Access data from dataframe \n",
    "data"
   ]
  },
  {
   "cell_type": "code",
   "execution_count": 27,
   "metadata": {},
   "outputs": [
    {
     "data": {
      "text/html": [
       "<div>\n",
       "<style scoped>\n",
       "    .dataframe tbody tr th:only-of-type {\n",
       "        vertical-align: middle;\n",
       "    }\n",
       "\n",
       "    .dataframe tbody tr th {\n",
       "        vertical-align: top;\n",
       "    }\n",
       "\n",
       "    .dataframe thead th {\n",
       "        text-align: right;\n",
       "    }\n",
       "</style>\n",
       "<table border=\"1\" class=\"dataframe\">\n",
       "  <thead>\n",
       "    <tr style=\"text-align: right;\">\n",
       "      <th></th>\n",
       "      <th>Timestamp</th>\n",
       "      <th>Name</th>\n",
       "      <th>Registration No.</th>\n",
       "      <th>Transaction ID</th>\n",
       "      <th>Amount:</th>\n",
       "      <th>Paid To:</th>\n",
       "      <th>Room No:</th>\n",
       "      <th>Bank Name</th>\n",
       "      <th>Email address</th>\n",
       "    </tr>\n",
       "  </thead>\n",
       "  <tbody>\n",
       "    <tr>\n",
       "      <th>0</th>\n",
       "      <td>NaN</td>\n",
       "      <td>NaN</td>\n",
       "      <td>NaN</td>\n",
       "      <td>NaN</td>\n",
       "      <td>NaN</td>\n",
       "      <td>NaN</td>\n",
       "      <td>NaN</td>\n",
       "      <td>NaN</td>\n",
       "      <td>NaN</td>\n",
       "    </tr>\n",
       "    <tr>\n",
       "      <th>1</th>\n",
       "      <td>9/15/2024 22:11:18</td>\n",
       "      <td>likhit sharma</td>\n",
       "      <td>24bce10112</td>\n",
       "      <td>425900980984</td>\n",
       "      <td>151.0</td>\n",
       "      <td>deb</td>\n",
       "      <td>332</td>\n",
       "      <td>bank of baroda</td>\n",
       "      <td>likhit.24bce10112@vitbhopal.ac.in</td>\n",
       "    </tr>\n",
       "    <tr>\n",
       "      <th>2</th>\n",
       "      <td>9/15/2024 22:14:20</td>\n",
       "      <td>Nirvan shashi singh</td>\n",
       "      <td>23BAI11030</td>\n",
       "      <td>462538384105</td>\n",
       "      <td>151.0</td>\n",
       "      <td>Debjyoti mitra</td>\n",
       "      <td>A-347</td>\n",
       "      <td>Icici</td>\n",
       "      <td>nirvan.23bai11030@vitbhopal.ac.in</td>\n",
       "    </tr>\n",
       "    <tr>\n",
       "      <th>3</th>\n",
       "      <td>9/15/2024 22:20:44</td>\n",
       "      <td>Eshant Baranwal</td>\n",
       "      <td>24BCY10212</td>\n",
       "      <td>425920871395</td>\n",
       "      <td>151.0</td>\n",
       "      <td>Debjyoti mitra</td>\n",
       "      <td>A-346</td>\n",
       "      <td>Bank of Baroda</td>\n",
       "      <td>eshant.24bcy10212@vitbhopal.ac.in</td>\n",
       "    </tr>\n",
       "    <tr>\n",
       "      <th>4</th>\n",
       "      <td>9/15/2024 22:21:13</td>\n",
       "      <td>Shubhankan Kumar</td>\n",
       "      <td>24bce11144</td>\n",
       "      <td>425970282360</td>\n",
       "      <td>200.0</td>\n",
       "      <td>Deb</td>\n",
       "      <td>A337</td>\n",
       "      <td>Hdfc bank</td>\n",
       "      <td>shubhankan.24bce11144@vitbhopal.ac.in</td>\n",
       "    </tr>\n",
       "    <tr>\n",
       "      <th>5</th>\n",
       "      <td>9/15/2024 22:25:52</td>\n",
       "      <td>Mayank</td>\n",
       "      <td>24BAC10071</td>\n",
       "      <td>425950114634</td>\n",
       "      <td>151.0</td>\n",
       "      <td>Debjyoti</td>\n",
       "      <td>A-346</td>\n",
       "      <td>NaN</td>\n",
       "      <td>mayank.24bac10071@vitbhopal.ac.in</td>\n",
       "    </tr>\n",
       "    <tr>\n",
       "      <th>6</th>\n",
       "      <td>9/15/2024 22:27:29</td>\n",
       "      <td>Sidhant kumar</td>\n",
       "      <td>24BSA10172</td>\n",
       "      <td>425978715469</td>\n",
       "      <td>151.0</td>\n",
       "      <td>Debjyoti</td>\n",
       "      <td>A332</td>\n",
       "      <td>NaN</td>\n",
       "      <td>sidhant.24bsa10172@vitbhopal.ac.in</td>\n",
       "    </tr>\n",
       "    <tr>\n",
       "      <th>7</th>\n",
       "      <td>9/15/2024 22:34:38</td>\n",
       "      <td>Kanishk Giri</td>\n",
       "      <td>23BAI11017</td>\n",
       "      <td>425954315831</td>\n",
       "      <td>151.0</td>\n",
       "      <td>Debjyoti</td>\n",
       "      <td>A</td>\n",
       "      <td>debjyoti0800-1@okhdfcbank</td>\n",
       "      <td>kanishk.23bai11017@vitbhopal.ac.in</td>\n",
       "    </tr>\n",
       "    <tr>\n",
       "      <th>8</th>\n",
       "      <td>9/15/2024 22:35:59</td>\n",
       "      <td>Ayush Prajapati</td>\n",
       "      <td>23BCG10110</td>\n",
       "      <td>T2409152235309579102275</td>\n",
       "      <td>151.0</td>\n",
       "      <td>Debjyoti</td>\n",
       "      <td>352-A</td>\n",
       "      <td>HDFC</td>\n",
       "      <td>ayush.23bcg10110@vitbhopal.ac.in</td>\n",
       "    </tr>\n",
       "    <tr>\n",
       "      <th>9</th>\n",
       "      <td>9/15/2024 22:37:28</td>\n",
       "      <td>Sejal Srivastava</td>\n",
       "      <td>23BAI10851</td>\n",
       "      <td>T2409152230115245144655</td>\n",
       "      <td>151.0</td>\n",
       "      <td>Debjyoti</td>\n",
       "      <td>G22</td>\n",
       "      <td>Hdfc</td>\n",
       "      <td>sejal.23bai10851@vitbhopal.ac.in</td>\n",
       "    </tr>\n",
       "    <tr>\n",
       "      <th>10</th>\n",
       "      <td>9/15/2024 22:40:20</td>\n",
       "      <td>Priyanshu gupta</td>\n",
       "      <td>24BCY10320</td>\n",
       "      <td>462578885237</td>\n",
       "      <td>151.0</td>\n",
       "      <td>Dev jyoti</td>\n",
       "      <td>A332</td>\n",
       "      <td>Punjab National Bank</td>\n",
       "      <td>priyanshu.24bcy10320@vitbhopal.ac.in</td>\n",
       "    </tr>\n",
       "    <tr>\n",
       "      <th>11</th>\n",
       "      <td>9/15/2024 22:45:47</td>\n",
       "      <td>PRATYUSH RAKECHA</td>\n",
       "      <td>24BCE10769</td>\n",
       "      <td>425954841248</td>\n",
       "      <td>151.0</td>\n",
       "      <td>Debjyoti mitra</td>\n",
       "      <td>A 352D</td>\n",
       "      <td>SBI</td>\n",
       "      <td>pratyush.24bce10769@vitbhopal.ac.in</td>\n",
       "    </tr>\n",
       "    <tr>\n",
       "      <th>12</th>\n",
       "      <td>9/15/2024 22:45:55</td>\n",
       "      <td>Devesh Agarwal</td>\n",
       "      <td>24BAI10908</td>\n",
       "      <td>425954590514</td>\n",
       "      <td>151.0</td>\n",
       "      <td>Debjyoti</td>\n",
       "      <td>A342</td>\n",
       "      <td>Bank of India</td>\n",
       "      <td>devesh.24bai10908@vitbhopal.ac.in</td>\n",
       "    </tr>\n",
       "    <tr>\n",
       "      <th>13</th>\n",
       "      <td>9/15/2024 22:54:13</td>\n",
       "      <td>Hemendra Singh</td>\n",
       "      <td>23BAI11347</td>\n",
       "      <td>462567672143</td>\n",
       "      <td>151.0</td>\n",
       "      <td>Debjyoti Mitra</td>\n",
       "      <td>Block 1 A 324</td>\n",
       "      <td>Indian Bank</td>\n",
       "      <td>hemendra.23bai11347@vitbhopal.ac.in</td>\n",
       "    </tr>\n",
       "    <tr>\n",
       "      <th>14</th>\n",
       "      <td>9/15/2024 22:59:17</td>\n",
       "      <td>SHIVANCHAL YADAV</td>\n",
       "      <td>24BCE10217</td>\n",
       "      <td>425968460036</td>\n",
       "      <td>151.0</td>\n",
       "      <td>Debjyoti</td>\n",
       "      <td>325</td>\n",
       "      <td>Canara</td>\n",
       "      <td>shivanchal.24bce10217@vitbhopal.ac.in</td>\n",
       "    </tr>\n",
       "  </tbody>\n",
       "</table>\n",
       "</div>"
      ],
      "text/plain": [
       "             Timestamp                  Name Registration No.  \\\n",
       "0                  NaN                   NaN              NaN   \n",
       "1   9/15/2024 22:11:18         likhit sharma       24bce10112   \n",
       "2   9/15/2024 22:14:20  Nirvan shashi singh       23BAI11030    \n",
       "3   9/15/2024 22:20:44      Eshant Baranwal        24BCY10212   \n",
       "4   9/15/2024 22:21:13     Shubhankan Kumar        24bce11144   \n",
       "5   9/15/2024 22:25:52                Mayank       24BAC10071   \n",
       "6   9/15/2024 22:27:29         Sidhant kumar       24BSA10172   \n",
       "7   9/15/2024 22:34:38         Kanishk Giri        23BAI11017   \n",
       "8   9/15/2024 22:35:59      Ayush Prajapati        23BCG10110   \n",
       "9   9/15/2024 22:37:28     Sejal Srivastava        23BAI10851   \n",
       "10  9/15/2024 22:40:20      Priyanshu gupta        24BCY10320   \n",
       "11  9/15/2024 22:45:47     PRATYUSH RAKECHA       24BCE10769    \n",
       "12  9/15/2024 22:45:55        Devesh Agarwal       24BAI10908   \n",
       "13  9/15/2024 22:54:13       Hemendra Singh        23BAI11347   \n",
       "14  9/15/2024 22:59:17     SHIVANCHAL YADAV       24BCE10217    \n",
       "\n",
       "             Transaction ID  Amount:         Paid To:       Room No:  \\\n",
       "0                       NaN      NaN              NaN            NaN   \n",
       "1              425900980984    151.0              deb            332   \n",
       "2              462538384105    151.0   Debjyoti mitra          A-347   \n",
       "3              425920871395    151.0  Debjyoti mitra           A-346   \n",
       "4              425970282360    200.0              Deb           A337   \n",
       "5              425950114634    151.0         Debjyoti          A-346   \n",
       "6              425978715469    151.0         Debjyoti           A332   \n",
       "7              425954315831    151.0        Debjyoti               A   \n",
       "8   T2409152235309579102275    151.0         Debjyoti          352-A   \n",
       "9   T2409152230115245144655    151.0         Debjyoti            G22   \n",
       "10             462578885237    151.0        Dev jyoti           A332   \n",
       "11             425954841248    151.0   Debjyoti mitra         A 352D   \n",
       "12             425954590514    151.0         Debjyoti           A342   \n",
       "13             462567672143    151.0   Debjyoti Mitra  Block 1 A 324   \n",
       "14             425968460036    151.0         Debjyoti            325   \n",
       "\n",
       "                    Bank Name                          Email address  \n",
       "0                         NaN                                    NaN  \n",
       "1              bank of baroda      likhit.24bce10112@vitbhopal.ac.in  \n",
       "2                      Icici       nirvan.23bai11030@vitbhopal.ac.in  \n",
       "3             Bank of Baroda       eshant.24bcy10212@vitbhopal.ac.in  \n",
       "4                   Hdfc bank  shubhankan.24bce11144@vitbhopal.ac.in  \n",
       "5                         NaN      mayank.24bac10071@vitbhopal.ac.in  \n",
       "6                         NaN     sidhant.24bsa10172@vitbhopal.ac.in  \n",
       "7   debjyoti0800-1@okhdfcbank     kanishk.23bai11017@vitbhopal.ac.in  \n",
       "8                        HDFC       ayush.23bcg10110@vitbhopal.ac.in  \n",
       "9                        Hdfc       sejal.23bai10851@vitbhopal.ac.in  \n",
       "10      Punjab National Bank    priyanshu.24bcy10320@vitbhopal.ac.in  \n",
       "11                        SBI    pratyush.24bce10769@vitbhopal.ac.in  \n",
       "12              Bank of India      devesh.24bai10908@vitbhopal.ac.in  \n",
       "13               Indian Bank     hemendra.23bai11347@vitbhopal.ac.in  \n",
       "14                     Canara  shivanchal.24bce10217@vitbhopal.ac.in  "
      ]
     },
     "execution_count": 27,
     "metadata": {},
     "output_type": "execute_result"
    }
   ],
   "source": [
    "df"
   ]
  },
  {
   "cell_type": "code",
   "execution_count": 28,
   "metadata": {},
   "outputs": [
    {
     "data": {
      "text/html": [
       "<div>\n",
       "<style scoped>\n",
       "    .dataframe tbody tr th:only-of-type {\n",
       "        vertical-align: middle;\n",
       "    }\n",
       "\n",
       "    .dataframe tbody tr th {\n",
       "        vertical-align: top;\n",
       "    }\n",
       "\n",
       "    .dataframe thead th {\n",
       "        text-align: right;\n",
       "    }\n",
       "</style>\n",
       "<table border=\"1\" class=\"dataframe\">\n",
       "  <thead>\n",
       "    <tr style=\"text-align: right;\">\n",
       "      <th></th>\n",
       "      <th>name</th>\n",
       "      <th>age</th>\n",
       "      <th>city</th>\n",
       "    </tr>\n",
       "  </thead>\n",
       "  <tbody>\n",
       "    <tr>\n",
       "      <th>0</th>\n",
       "      <td>krish</td>\n",
       "      <td>23</td>\n",
       "      <td>pune</td>\n",
       "    </tr>\n",
       "    <tr>\n",
       "      <th>1</th>\n",
       "      <td>omkar</td>\n",
       "      <td>20</td>\n",
       "      <td>beed</td>\n",
       "    </tr>\n",
       "    <tr>\n",
       "      <th>2</th>\n",
       "      <td>rajiv</td>\n",
       "      <td>22</td>\n",
       "      <td>loni</td>\n",
       "    </tr>\n",
       "  </tbody>\n",
       "</table>\n",
       "</div>"
      ],
      "text/plain": [
       "    name  age  city\n",
       "0  krish   23  pune\n",
       "1  omkar   20  beed\n",
       "2  rajiv   22  loni"
      ]
     },
     "execution_count": 28,
     "metadata": {},
     "output_type": "execute_result"
    }
   ],
   "source": [
    "df = pd.DataFrame(data)\n",
    "df"
   ]
  },
  {
   "cell_type": "code",
   "execution_count": 30,
   "metadata": {},
   "outputs": [
    {
     "data": {
      "text/plain": [
       "pandas.core.series.Series"
      ]
     },
     "execution_count": 30,
     "metadata": {},
     "output_type": "execute_result"
    }
   ],
   "source": [
    "type(df['name'])"
   ]
  },
  {
   "cell_type": "code",
   "execution_count": 31,
   "metadata": {},
   "outputs": [
    {
     "data": {
      "text/plain": [
       "0    krish\n",
       "1    omkar\n",
       "2    rajiv\n",
       "Name: name, dtype: object"
      ]
     },
     "execution_count": 31,
     "metadata": {},
     "output_type": "execute_result"
    }
   ],
   "source": [
    "df['name']"
   ]
  },
  {
   "cell_type": "code",
   "execution_count": 32,
   "metadata": {},
   "outputs": [
    {
     "data": {
      "text/plain": [
       "name    krish\n",
       "age        23\n",
       "city     pune\n",
       "Name: 0, dtype: object"
      ]
     },
     "execution_count": 32,
     "metadata": {},
     "output_type": "execute_result"
    }
   ],
   "source": [
    "df.loc[0]"
   ]
  },
  {
   "cell_type": "code",
   "execution_count": 33,
   "metadata": {},
   "outputs": [
    {
     "data": {
      "text/plain": [
       "name    krish\n",
       "age        23\n",
       "city     pune\n",
       "Name: 0, dtype: object"
      ]
     },
     "execution_count": 33,
     "metadata": {},
     "output_type": "execute_result"
    }
   ],
   "source": [
    "df.iloc[0]"
   ]
  },
  {
   "cell_type": "code",
   "execution_count": 34,
   "metadata": {},
   "outputs": [
    {
     "name": "stderr",
     "output_type": "stream",
     "text": [
      "C:\\Users\\omkar\\AppData\\Local\\Temp\\ipykernel_7532\\2900375399.py:1: FutureWarning: Series.__getitem__ treating keys as positions is deprecated. In a future version, integer keys will always be treated as labels (consistent with DataFrame behavior). To access a value by position, use `ser.iloc[pos]`\n",
      "  df.iloc[0][0]\n"
     ]
    },
    {
     "data": {
      "text/plain": [
       "'krish'"
      ]
     },
     "execution_count": 34,
     "metadata": {},
     "output_type": "execute_result"
    }
   ],
   "source": [
    "df.iloc[0][0]"
   ]
  },
  {
   "cell_type": "code",
   "execution_count": 36,
   "metadata": {},
   "outputs": [
    {
     "name": "stderr",
     "output_type": "stream",
     "text": [
      "C:\\Users\\omkar\\AppData\\Local\\Temp\\ipykernel_7532\\1019881219.py:1: FutureWarning: Series.__getitem__ treating keys as positions is deprecated. In a future version, integer keys will always be treated as labels (consistent with DataFrame behavior). To access a value by position, use `ser.iloc[pos]`\n",
      "  df.iloc[1][0]\n"
     ]
    },
    {
     "data": {
      "text/plain": [
       "'omkar'"
      ]
     },
     "execution_count": 36,
     "metadata": {},
     "output_type": "execute_result"
    }
   ],
   "source": [
    "df.iloc[1][0]"
   ]
  },
  {
   "cell_type": "code",
   "execution_count": 37,
   "metadata": {},
   "outputs": [
    {
     "data": {
      "text/html": [
       "<div>\n",
       "<style scoped>\n",
       "    .dataframe tbody tr th:only-of-type {\n",
       "        vertical-align: middle;\n",
       "    }\n",
       "\n",
       "    .dataframe tbody tr th {\n",
       "        vertical-align: top;\n",
       "    }\n",
       "\n",
       "    .dataframe thead th {\n",
       "        text-align: right;\n",
       "    }\n",
       "</style>\n",
       "<table border=\"1\" class=\"dataframe\">\n",
       "  <thead>\n",
       "    <tr style=\"text-align: right;\">\n",
       "      <th></th>\n",
       "      <th>name</th>\n",
       "      <th>age</th>\n",
       "      <th>city</th>\n",
       "    </tr>\n",
       "  </thead>\n",
       "  <tbody>\n",
       "    <tr>\n",
       "      <th>0</th>\n",
       "      <td>krish</td>\n",
       "      <td>23</td>\n",
       "      <td>pune</td>\n",
       "    </tr>\n",
       "    <tr>\n",
       "      <th>1</th>\n",
       "      <td>omkar</td>\n",
       "      <td>20</td>\n",
       "      <td>beed</td>\n",
       "    </tr>\n",
       "    <tr>\n",
       "      <th>2</th>\n",
       "      <td>rajiv</td>\n",
       "      <td>22</td>\n",
       "      <td>loni</td>\n",
       "    </tr>\n",
       "  </tbody>\n",
       "</table>\n",
       "</div>"
      ],
      "text/plain": [
       "    name  age  city\n",
       "0  krish   23  pune\n",
       "1  omkar   20  beed\n",
       "2  rajiv   22  loni"
      ]
     },
     "execution_count": 37,
     "metadata": {},
     "output_type": "execute_result"
    }
   ],
   "source": [
    "df"
   ]
  },
  {
   "cell_type": "code",
   "execution_count": 38,
   "metadata": {},
   "outputs": [
    {
     "name": "stderr",
     "output_type": "stream",
     "text": [
      "C:\\Users\\omkar\\AppData\\Local\\Temp\\ipykernel_7532\\2519637664.py:1: FutureWarning: Series.__getitem__ treating keys as positions is deprecated. In a future version, integer keys will always be treated as labels (consistent with DataFrame behavior). To access a value by position, use `ser.iloc[pos]`\n",
      "  df.iloc[0][2]\n"
     ]
    },
    {
     "data": {
      "text/plain": [
       "'pune'"
      ]
     },
     "execution_count": 38,
     "metadata": {},
     "output_type": "execute_result"
    }
   ],
   "source": [
    "df.iloc[0][2]"
   ]
  },
  {
   "cell_type": "code",
   "execution_count": 39,
   "metadata": {},
   "outputs": [
    {
     "name": "stderr",
     "output_type": "stream",
     "text": [
      "C:\\Users\\omkar\\AppData\\Local\\Temp\\ipykernel_7532\\870244984.py:1: FutureWarning: Series.__getitem__ treating keys as positions is deprecated. In a future version, integer keys will always be treated as labels (consistent with DataFrame behavior). To access a value by position, use `ser.iloc[pos]`\n",
      "  df.iloc[2][2]\n"
     ]
    },
    {
     "data": {
      "text/plain": [
       "'loni'"
      ]
     },
     "execution_count": 39,
     "metadata": {},
     "output_type": "execute_result"
    }
   ],
   "source": [
    "df.iloc[2][2]"
   ]
  },
  {
   "cell_type": "code",
   "execution_count": 40,
   "metadata": {},
   "outputs": [
    {
     "data": {
      "text/plain": [
       "0    krish\n",
       "1    omkar\n",
       "2    rajiv\n",
       "Name: name, dtype: object"
      ]
     },
     "execution_count": 40,
     "metadata": {},
     "output_type": "execute_result"
    }
   ],
   "source": [
    "## Accessing a specified element \n",
    "df['name']"
   ]
  },
  {
   "cell_type": "code",
   "execution_count": 41,
   "metadata": {},
   "outputs": [
    {
     "data": {
      "text/html": [
       "<div>\n",
       "<style scoped>\n",
       "    .dataframe tbody tr th:only-of-type {\n",
       "        vertical-align: middle;\n",
       "    }\n",
       "\n",
       "    .dataframe tbody tr th {\n",
       "        vertical-align: top;\n",
       "    }\n",
       "\n",
       "    .dataframe thead th {\n",
       "        text-align: right;\n",
       "    }\n",
       "</style>\n",
       "<table border=\"1\" class=\"dataframe\">\n",
       "  <thead>\n",
       "    <tr style=\"text-align: right;\">\n",
       "      <th></th>\n",
       "      <th>name</th>\n",
       "      <th>age</th>\n",
       "      <th>city</th>\n",
       "    </tr>\n",
       "  </thead>\n",
       "  <tbody>\n",
       "    <tr>\n",
       "      <th>0</th>\n",
       "      <td>krish</td>\n",
       "      <td>23</td>\n",
       "      <td>pune</td>\n",
       "    </tr>\n",
       "    <tr>\n",
       "      <th>1</th>\n",
       "      <td>omkar</td>\n",
       "      <td>20</td>\n",
       "      <td>beed</td>\n",
       "    </tr>\n",
       "    <tr>\n",
       "      <th>2</th>\n",
       "      <td>rajiv</td>\n",
       "      <td>22</td>\n",
       "      <td>loni</td>\n",
       "    </tr>\n",
       "  </tbody>\n",
       "</table>\n",
       "</div>"
      ],
      "text/plain": [
       "    name  age  city\n",
       "0  krish   23  pune\n",
       "1  omkar   20  beed\n",
       "2  rajiv   22  loni"
      ]
     },
     "execution_count": 41,
     "metadata": {},
     "output_type": "execute_result"
    }
   ],
   "source": [
    "df"
   ]
  },
  {
   "cell_type": "code",
   "execution_count": 45,
   "metadata": {},
   "outputs": [
    {
     "data": {
      "text/plain": [
       "np.int64(20)"
      ]
     },
     "execution_count": 45,
     "metadata": {},
     "output_type": "execute_result"
    }
   ],
   "source": [
    "df.at[1,'age']"
   ]
  },
  {
   "cell_type": "code",
   "execution_count": 46,
   "metadata": {},
   "outputs": [
    {
     "data": {
      "text/plain": [
       "'rajiv'"
      ]
     },
     "execution_count": 46,
     "metadata": {},
     "output_type": "execute_result"
    }
   ],
   "source": [
    "df.at[2,'name']"
   ]
  },
  {
   "cell_type": "code",
   "execution_count": 47,
   "metadata": {},
   "outputs": [
    {
     "data": {
      "text/plain": [
       "'loni'"
      ]
     },
     "execution_count": 47,
     "metadata": {},
     "output_type": "execute_result"
    }
   ],
   "source": [
    "## Accessing a specified element using iat\n",
    "df.iat[2,2]"
   ]
  },
  {
   "cell_type": "code",
   "execution_count": 48,
   "metadata": {},
   "outputs": [
    {
     "data": {
      "text/html": [
       "<div>\n",
       "<style scoped>\n",
       "    .dataframe tbody tr th:only-of-type {\n",
       "        vertical-align: middle;\n",
       "    }\n",
       "\n",
       "    .dataframe tbody tr th {\n",
       "        vertical-align: top;\n",
       "    }\n",
       "\n",
       "    .dataframe thead th {\n",
       "        text-align: right;\n",
       "    }\n",
       "</style>\n",
       "<table border=\"1\" class=\"dataframe\">\n",
       "  <thead>\n",
       "    <tr style=\"text-align: right;\">\n",
       "      <th></th>\n",
       "      <th>name</th>\n",
       "      <th>age</th>\n",
       "      <th>city</th>\n",
       "    </tr>\n",
       "  </thead>\n",
       "  <tbody>\n",
       "    <tr>\n",
       "      <th>0</th>\n",
       "      <td>krish</td>\n",
       "      <td>23</td>\n",
       "      <td>pune</td>\n",
       "    </tr>\n",
       "    <tr>\n",
       "      <th>1</th>\n",
       "      <td>omkar</td>\n",
       "      <td>20</td>\n",
       "      <td>beed</td>\n",
       "    </tr>\n",
       "    <tr>\n",
       "      <th>2</th>\n",
       "      <td>rajiv</td>\n",
       "      <td>22</td>\n",
       "      <td>loni</td>\n",
       "    </tr>\n",
       "  </tbody>\n",
       "</table>\n",
       "</div>"
      ],
      "text/plain": [
       "    name  age  city\n",
       "0  krish   23  pune\n",
       "1  omkar   20  beed\n",
       "2  rajiv   22  loni"
      ]
     },
     "execution_count": 48,
     "metadata": {},
     "output_type": "execute_result"
    }
   ],
   "source": [
    "## Data Manipulation With Dataframe\n",
    "df"
   ]
  },
  {
   "cell_type": "code",
   "execution_count": 50,
   "metadata": {},
   "outputs": [],
   "source": [
    "# Add new column\n",
    "df['Salary']=[50000,20000,200000]"
   ]
  },
  {
   "cell_type": "code",
   "execution_count": 51,
   "metadata": {},
   "outputs": [
    {
     "data": {
      "text/html": [
       "<div>\n",
       "<style scoped>\n",
       "    .dataframe tbody tr th:only-of-type {\n",
       "        vertical-align: middle;\n",
       "    }\n",
       "\n",
       "    .dataframe tbody tr th {\n",
       "        vertical-align: top;\n",
       "    }\n",
       "\n",
       "    .dataframe thead th {\n",
       "        text-align: right;\n",
       "    }\n",
       "</style>\n",
       "<table border=\"1\" class=\"dataframe\">\n",
       "  <thead>\n",
       "    <tr style=\"text-align: right;\">\n",
       "      <th></th>\n",
       "      <th>name</th>\n",
       "      <th>age</th>\n",
       "      <th>city</th>\n",
       "      <th>Salary</th>\n",
       "    </tr>\n",
       "  </thead>\n",
       "  <tbody>\n",
       "    <tr>\n",
       "      <th>0</th>\n",
       "      <td>krish</td>\n",
       "      <td>23</td>\n",
       "      <td>pune</td>\n",
       "      <td>50000</td>\n",
       "    </tr>\n",
       "    <tr>\n",
       "      <th>1</th>\n",
       "      <td>omkar</td>\n",
       "      <td>20</td>\n",
       "      <td>beed</td>\n",
       "      <td>20000</td>\n",
       "    </tr>\n",
       "    <tr>\n",
       "      <th>2</th>\n",
       "      <td>rajiv</td>\n",
       "      <td>22</td>\n",
       "      <td>loni</td>\n",
       "      <td>200000</td>\n",
       "    </tr>\n",
       "  </tbody>\n",
       "</table>\n",
       "</div>"
      ],
      "text/plain": [
       "    name  age  city  Salary\n",
       "0  krish   23  pune   50000\n",
       "1  omkar   20  beed   20000\n",
       "2  rajiv   22  loni  200000"
      ]
     },
     "execution_count": 51,
     "metadata": {},
     "output_type": "execute_result"
    }
   ],
   "source": [
    "df"
   ]
  },
  {
   "cell_type": "code",
   "execution_count": 52,
   "metadata": {},
   "outputs": [
    {
     "data": {
      "text/html": [
       "<div>\n",
       "<style scoped>\n",
       "    .dataframe tbody tr th:only-of-type {\n",
       "        vertical-align: middle;\n",
       "    }\n",
       "\n",
       "    .dataframe tbody tr th {\n",
       "        vertical-align: top;\n",
       "    }\n",
       "\n",
       "    .dataframe thead th {\n",
       "        text-align: right;\n",
       "    }\n",
       "</style>\n",
       "<table border=\"1\" class=\"dataframe\">\n",
       "  <thead>\n",
       "    <tr style=\"text-align: right;\">\n",
       "      <th></th>\n",
       "      <th>name</th>\n",
       "      <th>age</th>\n",
       "      <th>city</th>\n",
       "    </tr>\n",
       "  </thead>\n",
       "  <tbody>\n",
       "    <tr>\n",
       "      <th>0</th>\n",
       "      <td>krish</td>\n",
       "      <td>23</td>\n",
       "      <td>pune</td>\n",
       "    </tr>\n",
       "    <tr>\n",
       "      <th>1</th>\n",
       "      <td>omkar</td>\n",
       "      <td>20</td>\n",
       "      <td>beed</td>\n",
       "    </tr>\n",
       "    <tr>\n",
       "      <th>2</th>\n",
       "      <td>rajiv</td>\n",
       "      <td>22</td>\n",
       "      <td>loni</td>\n",
       "    </tr>\n",
       "  </tbody>\n",
       "</table>\n",
       "</div>"
      ],
      "text/plain": [
       "    name  age  city\n",
       "0  krish   23  pune\n",
       "1  omkar   20  beed\n",
       "2  rajiv   22  loni"
      ]
     },
     "execution_count": 52,
     "metadata": {},
     "output_type": "execute_result"
    }
   ],
   "source": [
    "# remove a column\n",
    "df.drop('Salary',axis=1)"
   ]
  },
  {
   "cell_type": "code",
   "execution_count": 53,
   "metadata": {},
   "outputs": [
    {
     "data": {
      "text/html": [
       "<div>\n",
       "<style scoped>\n",
       "    .dataframe tbody tr th:only-of-type {\n",
       "        vertical-align: middle;\n",
       "    }\n",
       "\n",
       "    .dataframe tbody tr th {\n",
       "        vertical-align: top;\n",
       "    }\n",
       "\n",
       "    .dataframe thead th {\n",
       "        text-align: right;\n",
       "    }\n",
       "</style>\n",
       "<table border=\"1\" class=\"dataframe\">\n",
       "  <thead>\n",
       "    <tr style=\"text-align: right;\">\n",
       "      <th></th>\n",
       "      <th>name</th>\n",
       "      <th>age</th>\n",
       "      <th>city</th>\n",
       "      <th>Salary</th>\n",
       "    </tr>\n",
       "  </thead>\n",
       "  <tbody>\n",
       "    <tr>\n",
       "      <th>0</th>\n",
       "      <td>krish</td>\n",
       "      <td>23</td>\n",
       "      <td>pune</td>\n",
       "      <td>50000</td>\n",
       "    </tr>\n",
       "    <tr>\n",
       "      <th>1</th>\n",
       "      <td>omkar</td>\n",
       "      <td>20</td>\n",
       "      <td>beed</td>\n",
       "      <td>20000</td>\n",
       "    </tr>\n",
       "    <tr>\n",
       "      <th>2</th>\n",
       "      <td>rajiv</td>\n",
       "      <td>22</td>\n",
       "      <td>loni</td>\n",
       "      <td>200000</td>\n",
       "    </tr>\n",
       "  </tbody>\n",
       "</table>\n",
       "</div>"
      ],
      "text/plain": [
       "    name  age  city  Salary\n",
       "0  krish   23  pune   50000\n",
       "1  omkar   20  beed   20000\n",
       "2  rajiv   22  loni  200000"
      ]
     },
     "execution_count": 53,
     "metadata": {},
     "output_type": "execute_result"
    }
   ],
   "source": [
    "df"
   ]
  },
  {
   "cell_type": "code",
   "execution_count": 54,
   "metadata": {},
   "outputs": [],
   "source": [
    "df.drop('Salary',axis=1,inplace=True)"
   ]
  },
  {
   "cell_type": "code",
   "execution_count": 55,
   "metadata": {},
   "outputs": [
    {
     "data": {
      "text/html": [
       "<div>\n",
       "<style scoped>\n",
       "    .dataframe tbody tr th:only-of-type {\n",
       "        vertical-align: middle;\n",
       "    }\n",
       "\n",
       "    .dataframe tbody tr th {\n",
       "        vertical-align: top;\n",
       "    }\n",
       "\n",
       "    .dataframe thead th {\n",
       "        text-align: right;\n",
       "    }\n",
       "</style>\n",
       "<table border=\"1\" class=\"dataframe\">\n",
       "  <thead>\n",
       "    <tr style=\"text-align: right;\">\n",
       "      <th></th>\n",
       "      <th>name</th>\n",
       "      <th>age</th>\n",
       "      <th>city</th>\n",
       "    </tr>\n",
       "  </thead>\n",
       "  <tbody>\n",
       "    <tr>\n",
       "      <th>0</th>\n",
       "      <td>krish</td>\n",
       "      <td>23</td>\n",
       "      <td>pune</td>\n",
       "    </tr>\n",
       "    <tr>\n",
       "      <th>1</th>\n",
       "      <td>omkar</td>\n",
       "      <td>20</td>\n",
       "      <td>beed</td>\n",
       "    </tr>\n",
       "    <tr>\n",
       "      <th>2</th>\n",
       "      <td>rajiv</td>\n",
       "      <td>22</td>\n",
       "      <td>loni</td>\n",
       "    </tr>\n",
       "  </tbody>\n",
       "</table>\n",
       "</div>"
      ],
      "text/plain": [
       "    name  age  city\n",
       "0  krish   23  pune\n",
       "1  omkar   20  beed\n",
       "2  rajiv   22  loni"
      ]
     },
     "execution_count": 55,
     "metadata": {},
     "output_type": "execute_result"
    }
   ],
   "source": [
    "df"
   ]
  },
  {
   "cell_type": "code",
   "execution_count": 56,
   "metadata": {},
   "outputs": [],
   "source": [
    "# Add age to column \n",
    "df['age']= df['age']+1"
   ]
  },
  {
   "cell_type": "code",
   "execution_count": 57,
   "metadata": {},
   "outputs": [
    {
     "data": {
      "text/html": [
       "<div>\n",
       "<style scoped>\n",
       "    .dataframe tbody tr th:only-of-type {\n",
       "        vertical-align: middle;\n",
       "    }\n",
       "\n",
       "    .dataframe tbody tr th {\n",
       "        vertical-align: top;\n",
       "    }\n",
       "\n",
       "    .dataframe thead th {\n",
       "        text-align: right;\n",
       "    }\n",
       "</style>\n",
       "<table border=\"1\" class=\"dataframe\">\n",
       "  <thead>\n",
       "    <tr style=\"text-align: right;\">\n",
       "      <th></th>\n",
       "      <th>name</th>\n",
       "      <th>age</th>\n",
       "      <th>city</th>\n",
       "    </tr>\n",
       "  </thead>\n",
       "  <tbody>\n",
       "    <tr>\n",
       "      <th>0</th>\n",
       "      <td>krish</td>\n",
       "      <td>24</td>\n",
       "      <td>pune</td>\n",
       "    </tr>\n",
       "    <tr>\n",
       "      <th>1</th>\n",
       "      <td>omkar</td>\n",
       "      <td>21</td>\n",
       "      <td>beed</td>\n",
       "    </tr>\n",
       "    <tr>\n",
       "      <th>2</th>\n",
       "      <td>rajiv</td>\n",
       "      <td>23</td>\n",
       "      <td>loni</td>\n",
       "    </tr>\n",
       "  </tbody>\n",
       "</table>\n",
       "</div>"
      ],
      "text/plain": [
       "    name  age  city\n",
       "0  krish   24  pune\n",
       "1  omkar   21  beed\n",
       "2  rajiv   23  loni"
      ]
     },
     "execution_count": 57,
     "metadata": {},
     "output_type": "execute_result"
    }
   ],
   "source": [
    "df"
   ]
  },
  {
   "cell_type": "code",
   "execution_count": 59,
   "metadata": {},
   "outputs": [],
   "source": [
    "df.drop(0,inplace=True)"
   ]
  },
  {
   "cell_type": "code",
   "execution_count": 60,
   "metadata": {},
   "outputs": [
    {
     "data": {
      "text/html": [
       "<div>\n",
       "<style scoped>\n",
       "    .dataframe tbody tr th:only-of-type {\n",
       "        vertical-align: middle;\n",
       "    }\n",
       "\n",
       "    .dataframe tbody tr th {\n",
       "        vertical-align: top;\n",
       "    }\n",
       "\n",
       "    .dataframe thead th {\n",
       "        text-align: right;\n",
       "    }\n",
       "</style>\n",
       "<table border=\"1\" class=\"dataframe\">\n",
       "  <thead>\n",
       "    <tr style=\"text-align: right;\">\n",
       "      <th></th>\n",
       "      <th>name</th>\n",
       "      <th>age</th>\n",
       "      <th>city</th>\n",
       "    </tr>\n",
       "  </thead>\n",
       "  <tbody>\n",
       "    <tr>\n",
       "      <th>1</th>\n",
       "      <td>omkar</td>\n",
       "      <td>21</td>\n",
       "      <td>beed</td>\n",
       "    </tr>\n",
       "    <tr>\n",
       "      <th>2</th>\n",
       "      <td>rajiv</td>\n",
       "      <td>23</td>\n",
       "      <td>loni</td>\n",
       "    </tr>\n",
       "  </tbody>\n",
       "</table>\n",
       "</div>"
      ],
      "text/plain": [
       "    name  age  city\n",
       "1  omkar   21  beed\n",
       "2  rajiv   23  loni"
      ]
     },
     "execution_count": 60,
     "metadata": {},
     "output_type": "execute_result"
    }
   ],
   "source": [
    "df"
   ]
  },
  {
   "cell_type": "code",
   "execution_count": 61,
   "metadata": {},
   "outputs": [],
   "source": [
    "df = pd.read_csv('Payment.csv')"
   ]
  },
  {
   "cell_type": "code",
   "execution_count": 62,
   "metadata": {},
   "outputs": [
    {
     "data": {
      "text/html": [
       "<div>\n",
       "<style scoped>\n",
       "    .dataframe tbody tr th:only-of-type {\n",
       "        vertical-align: middle;\n",
       "    }\n",
       "\n",
       "    .dataframe tbody tr th {\n",
       "        vertical-align: top;\n",
       "    }\n",
       "\n",
       "    .dataframe thead th {\n",
       "        text-align: right;\n",
       "    }\n",
       "</style>\n",
       "<table border=\"1\" class=\"dataframe\">\n",
       "  <thead>\n",
       "    <tr style=\"text-align: right;\">\n",
       "      <th></th>\n",
       "      <th>Timestamp</th>\n",
       "      <th>Name</th>\n",
       "      <th>Registration No.</th>\n",
       "      <th>Transaction ID</th>\n",
       "      <th>Amount:</th>\n",
       "      <th>Paid To:</th>\n",
       "      <th>Room No:</th>\n",
       "      <th>Bank Name</th>\n",
       "      <th>Email address</th>\n",
       "    </tr>\n",
       "  </thead>\n",
       "  <tbody>\n",
       "    <tr>\n",
       "      <th>0</th>\n",
       "      <td>NaN</td>\n",
       "      <td>NaN</td>\n",
       "      <td>NaN</td>\n",
       "      <td>NaN</td>\n",
       "      <td>NaN</td>\n",
       "      <td>NaN</td>\n",
       "      <td>NaN</td>\n",
       "      <td>NaN</td>\n",
       "      <td>NaN</td>\n",
       "    </tr>\n",
       "    <tr>\n",
       "      <th>1</th>\n",
       "      <td>9/15/2024 22:11:18</td>\n",
       "      <td>likhit sharma</td>\n",
       "      <td>24bce10112</td>\n",
       "      <td>425900980984</td>\n",
       "      <td>151.0</td>\n",
       "      <td>deb</td>\n",
       "      <td>332</td>\n",
       "      <td>bank of baroda</td>\n",
       "      <td>likhit.24bce10112@vitbhopal.ac.in</td>\n",
       "    </tr>\n",
       "    <tr>\n",
       "      <th>2</th>\n",
       "      <td>9/15/2024 22:14:20</td>\n",
       "      <td>Nirvan shashi singh</td>\n",
       "      <td>23BAI11030</td>\n",
       "      <td>462538384105</td>\n",
       "      <td>151.0</td>\n",
       "      <td>Debjyoti mitra</td>\n",
       "      <td>A-347</td>\n",
       "      <td>Icici</td>\n",
       "      <td>nirvan.23bai11030@vitbhopal.ac.in</td>\n",
       "    </tr>\n",
       "    <tr>\n",
       "      <th>3</th>\n",
       "      <td>9/15/2024 22:20:44</td>\n",
       "      <td>Eshant Baranwal</td>\n",
       "      <td>24BCY10212</td>\n",
       "      <td>425920871395</td>\n",
       "      <td>151.0</td>\n",
       "      <td>Debjyoti mitra</td>\n",
       "      <td>A-346</td>\n",
       "      <td>Bank of Baroda</td>\n",
       "      <td>eshant.24bcy10212@vitbhopal.ac.in</td>\n",
       "    </tr>\n",
       "    <tr>\n",
       "      <th>4</th>\n",
       "      <td>9/15/2024 22:21:13</td>\n",
       "      <td>Shubhankan Kumar</td>\n",
       "      <td>24bce11144</td>\n",
       "      <td>425970282360</td>\n",
       "      <td>200.0</td>\n",
       "      <td>Deb</td>\n",
       "      <td>A337</td>\n",
       "      <td>Hdfc bank</td>\n",
       "      <td>shubhankan.24bce11144@vitbhopal.ac.in</td>\n",
       "    </tr>\n",
       "    <tr>\n",
       "      <th>5</th>\n",
       "      <td>9/15/2024 22:25:52</td>\n",
       "      <td>Mayank</td>\n",
       "      <td>24BAC10071</td>\n",
       "      <td>425950114634</td>\n",
       "      <td>151.0</td>\n",
       "      <td>Debjyoti</td>\n",
       "      <td>A-346</td>\n",
       "      <td>NaN</td>\n",
       "      <td>mayank.24bac10071@vitbhopal.ac.in</td>\n",
       "    </tr>\n",
       "    <tr>\n",
       "      <th>6</th>\n",
       "      <td>9/15/2024 22:27:29</td>\n",
       "      <td>Sidhant kumar</td>\n",
       "      <td>24BSA10172</td>\n",
       "      <td>425978715469</td>\n",
       "      <td>151.0</td>\n",
       "      <td>Debjyoti</td>\n",
       "      <td>A332</td>\n",
       "      <td>NaN</td>\n",
       "      <td>sidhant.24bsa10172@vitbhopal.ac.in</td>\n",
       "    </tr>\n",
       "    <tr>\n",
       "      <th>7</th>\n",
       "      <td>9/15/2024 22:34:38</td>\n",
       "      <td>Kanishk Giri</td>\n",
       "      <td>23BAI11017</td>\n",
       "      <td>425954315831</td>\n",
       "      <td>151.0</td>\n",
       "      <td>Debjyoti</td>\n",
       "      <td>A</td>\n",
       "      <td>debjyoti0800-1@okhdfcbank</td>\n",
       "      <td>kanishk.23bai11017@vitbhopal.ac.in</td>\n",
       "    </tr>\n",
       "    <tr>\n",
       "      <th>8</th>\n",
       "      <td>9/15/2024 22:35:59</td>\n",
       "      <td>Ayush Prajapati</td>\n",
       "      <td>23BCG10110</td>\n",
       "      <td>T2409152235309579102275</td>\n",
       "      <td>151.0</td>\n",
       "      <td>Debjyoti</td>\n",
       "      <td>352-A</td>\n",
       "      <td>HDFC</td>\n",
       "      <td>ayush.23bcg10110@vitbhopal.ac.in</td>\n",
       "    </tr>\n",
       "    <tr>\n",
       "      <th>9</th>\n",
       "      <td>9/15/2024 22:37:28</td>\n",
       "      <td>Sejal Srivastava</td>\n",
       "      <td>23BAI10851</td>\n",
       "      <td>T2409152230115245144655</td>\n",
       "      <td>151.0</td>\n",
       "      <td>Debjyoti</td>\n",
       "      <td>G22</td>\n",
       "      <td>Hdfc</td>\n",
       "      <td>sejal.23bai10851@vitbhopal.ac.in</td>\n",
       "    </tr>\n",
       "    <tr>\n",
       "      <th>10</th>\n",
       "      <td>9/15/2024 22:40:20</td>\n",
       "      <td>Priyanshu gupta</td>\n",
       "      <td>24BCY10320</td>\n",
       "      <td>462578885237</td>\n",
       "      <td>151.0</td>\n",
       "      <td>Dev jyoti</td>\n",
       "      <td>A332</td>\n",
       "      <td>Punjab National Bank</td>\n",
       "      <td>priyanshu.24bcy10320@vitbhopal.ac.in</td>\n",
       "    </tr>\n",
       "    <tr>\n",
       "      <th>11</th>\n",
       "      <td>9/15/2024 22:45:47</td>\n",
       "      <td>PRATYUSH RAKECHA</td>\n",
       "      <td>24BCE10769</td>\n",
       "      <td>425954841248</td>\n",
       "      <td>151.0</td>\n",
       "      <td>Debjyoti mitra</td>\n",
       "      <td>A 352D</td>\n",
       "      <td>SBI</td>\n",
       "      <td>pratyush.24bce10769@vitbhopal.ac.in</td>\n",
       "    </tr>\n",
       "    <tr>\n",
       "      <th>12</th>\n",
       "      <td>9/15/2024 22:45:55</td>\n",
       "      <td>Devesh Agarwal</td>\n",
       "      <td>24BAI10908</td>\n",
       "      <td>425954590514</td>\n",
       "      <td>151.0</td>\n",
       "      <td>Debjyoti</td>\n",
       "      <td>A342</td>\n",
       "      <td>Bank of India</td>\n",
       "      <td>devesh.24bai10908@vitbhopal.ac.in</td>\n",
       "    </tr>\n",
       "    <tr>\n",
       "      <th>13</th>\n",
       "      <td>9/15/2024 22:54:13</td>\n",
       "      <td>Hemendra Singh</td>\n",
       "      <td>23BAI11347</td>\n",
       "      <td>462567672143</td>\n",
       "      <td>151.0</td>\n",
       "      <td>Debjyoti Mitra</td>\n",
       "      <td>Block 1 A 324</td>\n",
       "      <td>Indian Bank</td>\n",
       "      <td>hemendra.23bai11347@vitbhopal.ac.in</td>\n",
       "    </tr>\n",
       "    <tr>\n",
       "      <th>14</th>\n",
       "      <td>9/15/2024 22:59:17</td>\n",
       "      <td>SHIVANCHAL YADAV</td>\n",
       "      <td>24BCE10217</td>\n",
       "      <td>425968460036</td>\n",
       "      <td>151.0</td>\n",
       "      <td>Debjyoti</td>\n",
       "      <td>325</td>\n",
       "      <td>Canara</td>\n",
       "      <td>shivanchal.24bce10217@vitbhopal.ac.in</td>\n",
       "    </tr>\n",
       "  </tbody>\n",
       "</table>\n",
       "</div>"
      ],
      "text/plain": [
       "             Timestamp                  Name Registration No.  \\\n",
       "0                  NaN                   NaN              NaN   \n",
       "1   9/15/2024 22:11:18         likhit sharma       24bce10112   \n",
       "2   9/15/2024 22:14:20  Nirvan shashi singh       23BAI11030    \n",
       "3   9/15/2024 22:20:44      Eshant Baranwal        24BCY10212   \n",
       "4   9/15/2024 22:21:13     Shubhankan Kumar        24bce11144   \n",
       "5   9/15/2024 22:25:52                Mayank       24BAC10071   \n",
       "6   9/15/2024 22:27:29         Sidhant kumar       24BSA10172   \n",
       "7   9/15/2024 22:34:38         Kanishk Giri        23BAI11017   \n",
       "8   9/15/2024 22:35:59      Ayush Prajapati        23BCG10110   \n",
       "9   9/15/2024 22:37:28     Sejal Srivastava        23BAI10851   \n",
       "10  9/15/2024 22:40:20      Priyanshu gupta        24BCY10320   \n",
       "11  9/15/2024 22:45:47     PRATYUSH RAKECHA       24BCE10769    \n",
       "12  9/15/2024 22:45:55        Devesh Agarwal       24BAI10908   \n",
       "13  9/15/2024 22:54:13       Hemendra Singh        23BAI11347   \n",
       "14  9/15/2024 22:59:17     SHIVANCHAL YADAV       24BCE10217    \n",
       "\n",
       "             Transaction ID  Amount:         Paid To:       Room No:  \\\n",
       "0                       NaN      NaN              NaN            NaN   \n",
       "1              425900980984    151.0              deb            332   \n",
       "2              462538384105    151.0   Debjyoti mitra          A-347   \n",
       "3              425920871395    151.0  Debjyoti mitra           A-346   \n",
       "4              425970282360    200.0              Deb           A337   \n",
       "5              425950114634    151.0         Debjyoti          A-346   \n",
       "6              425978715469    151.0         Debjyoti           A332   \n",
       "7              425954315831    151.0        Debjyoti               A   \n",
       "8   T2409152235309579102275    151.0         Debjyoti          352-A   \n",
       "9   T2409152230115245144655    151.0         Debjyoti            G22   \n",
       "10             462578885237    151.0        Dev jyoti           A332   \n",
       "11             425954841248    151.0   Debjyoti mitra         A 352D   \n",
       "12             425954590514    151.0         Debjyoti           A342   \n",
       "13             462567672143    151.0   Debjyoti Mitra  Block 1 A 324   \n",
       "14             425968460036    151.0         Debjyoti            325   \n",
       "\n",
       "                    Bank Name                          Email address  \n",
       "0                         NaN                                    NaN  \n",
       "1              bank of baroda      likhit.24bce10112@vitbhopal.ac.in  \n",
       "2                      Icici       nirvan.23bai11030@vitbhopal.ac.in  \n",
       "3             Bank of Baroda       eshant.24bcy10212@vitbhopal.ac.in  \n",
       "4                   Hdfc bank  shubhankan.24bce11144@vitbhopal.ac.in  \n",
       "5                         NaN      mayank.24bac10071@vitbhopal.ac.in  \n",
       "6                         NaN     sidhant.24bsa10172@vitbhopal.ac.in  \n",
       "7   debjyoti0800-1@okhdfcbank     kanishk.23bai11017@vitbhopal.ac.in  \n",
       "8                        HDFC       ayush.23bcg10110@vitbhopal.ac.in  \n",
       "9                        Hdfc       sejal.23bai10851@vitbhopal.ac.in  \n",
       "10      Punjab National Bank    priyanshu.24bcy10320@vitbhopal.ac.in  \n",
       "11                        SBI    pratyush.24bce10769@vitbhopal.ac.in  \n",
       "12              Bank of India      devesh.24bai10908@vitbhopal.ac.in  \n",
       "13               Indian Bank     hemendra.23bai11347@vitbhopal.ac.in  \n",
       "14                     Canara  shivanchal.24bce10217@vitbhopal.ac.in  "
      ]
     },
     "execution_count": 62,
     "metadata": {},
     "output_type": "execute_result"
    }
   ],
   "source": [
    "df"
   ]
  },
  {
   "cell_type": "code",
   "execution_count": 63,
   "metadata": {},
   "outputs": [
    {
     "data": {
      "text/html": [
       "<div>\n",
       "<style scoped>\n",
       "    .dataframe tbody tr th:only-of-type {\n",
       "        vertical-align: middle;\n",
       "    }\n",
       "\n",
       "    .dataframe tbody tr th {\n",
       "        vertical-align: top;\n",
       "    }\n",
       "\n",
       "    .dataframe thead th {\n",
       "        text-align: right;\n",
       "    }\n",
       "</style>\n",
       "<table border=\"1\" class=\"dataframe\">\n",
       "  <thead>\n",
       "    <tr style=\"text-align: right;\">\n",
       "      <th></th>\n",
       "      <th>Amount:</th>\n",
       "    </tr>\n",
       "  </thead>\n",
       "  <tbody>\n",
       "    <tr>\n",
       "      <th>count</th>\n",
       "      <td>14.000000</td>\n",
       "    </tr>\n",
       "    <tr>\n",
       "      <th>mean</th>\n",
       "      <td>154.500000</td>\n",
       "    </tr>\n",
       "    <tr>\n",
       "      <th>std</th>\n",
       "      <td>13.095801</td>\n",
       "    </tr>\n",
       "    <tr>\n",
       "      <th>min</th>\n",
       "      <td>151.000000</td>\n",
       "    </tr>\n",
       "    <tr>\n",
       "      <th>25%</th>\n",
       "      <td>151.000000</td>\n",
       "    </tr>\n",
       "    <tr>\n",
       "      <th>50%</th>\n",
       "      <td>151.000000</td>\n",
       "    </tr>\n",
       "    <tr>\n",
       "      <th>75%</th>\n",
       "      <td>151.000000</td>\n",
       "    </tr>\n",
       "    <tr>\n",
       "      <th>max</th>\n",
       "      <td>200.000000</td>\n",
       "    </tr>\n",
       "  </tbody>\n",
       "</table>\n",
       "</div>"
      ],
      "text/plain": [
       "          Amount:\n",
       "count   14.000000\n",
       "mean   154.500000\n",
       "std     13.095801\n",
       "min    151.000000\n",
       "25%    151.000000\n",
       "50%    151.000000\n",
       "75%    151.000000\n",
       "max    200.000000"
      ]
     },
     "execution_count": 63,
     "metadata": {},
     "output_type": "execute_result"
    }
   ],
   "source": [
    "# Give all Statistical Values \n",
    "df.describe()"
   ]
  },
  {
   "cell_type": "code",
   "execution_count": null,
   "metadata": {},
   "outputs": [],
   "source": []
  },
  {
   "cell_type": "code",
   "execution_count": null,
   "metadata": {},
   "outputs": [],
   "source": []
  }
 ],
 "metadata": {
  "kernelspec": {
   "display_name": "Python 3",
   "language": "python",
   "name": "python3"
  },
  "language_info": {
   "codemirror_mode": {
    "name": "ipython",
    "version": 3
   },
   "file_extension": ".py",
   "mimetype": "text/x-python",
   "name": "python",
   "nbconvert_exporter": "python",
   "pygments_lexer": "ipython3",
   "version": "3.10.0"
  }
 },
 "nbformat": 4,
 "nbformat_minor": 2
}
