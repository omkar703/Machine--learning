{
 "cells": [
  {
   "cell_type": "markdown",
   "metadata": {},
   "source": [
    "# Lists "
   ]
  },
  {
   "cell_type": "code",
   "execution_count": 85,
   "metadata": {},
   "outputs": [
    {
     "name": "stdout",
     "output_type": "stream",
     "text": [
      "<class 'list'>\n"
     ]
    }
   ],
   "source": [
    "lst  = []\n",
    "print(type(lst))"
   ]
  },
  {
   "cell_type": "code",
   "execution_count": 86,
   "metadata": {},
   "outputs": [
    {
     "name": "stdout",
     "output_type": "stream",
     "text": [
      "['Krishna', 'om', 'ram', 'ravi', 1, 12, 3, 34]\n"
     ]
    }
   ],
   "source": [
    "mixedlist = [\"Krishna\" , \"om\", \"ram\" , \"ravi\" , 1,12,3,34]\n",
    "print(mixedlist)"
   ]
  },
  {
   "cell_type": "code",
   "execution_count": 87,
   "metadata": {},
   "outputs": [
    {
     "data": {
      "text/plain": [
       "'Apples'"
      ]
     },
     "execution_count": 87,
     "metadata": {},
     "output_type": "execute_result"
    }
   ],
   "source": [
    "# Access list\n",
    "fruits = [\"Apples\" , \"Mango\",\"Tomato\", \"cherry\" , \"kiwi\"]\n",
    "fruits[0]"
   ]
  },
  {
   "cell_type": "code",
   "execution_count": 88,
   "metadata": {},
   "outputs": [
    {
     "name": "stdout",
     "output_type": "stream",
     "text": [
      "Apples\n",
      "Mango\n",
      "Tomato\n",
      "cherry\n",
      "kiwi\n"
     ]
    }
   ],
   "source": [
    "for i in fruits:\n",
    "    print(i)"
   ]
  },
  {
   "cell_type": "code",
   "execution_count": 89,
   "metadata": {},
   "outputs": [
    {
     "name": "stdout",
     "output_type": "stream",
     "text": [
      "kiwi\n"
     ]
    }
   ],
   "source": [
    "print(fruits[-1])"
   ]
  },
  {
   "cell_type": "code",
   "execution_count": 90,
   "metadata": {},
   "outputs": [
    {
     "name": "stdout",
     "output_type": "stream",
     "text": [
      "['Mango', 'Tomato', 'cherry', 'kiwi']\n"
     ]
    }
   ],
   "source": [
    "print(fruits[1:])"
   ]
  },
  {
   "cell_type": "code",
   "execution_count": 91,
   "metadata": {},
   "outputs": [
    {
     "name": "stdout",
     "output_type": "stream",
     "text": [
      "['Mango', 'Tomato']\n"
     ]
    }
   ],
   "source": [
    "print(fruits[1:3])"
   ]
  },
  {
   "cell_type": "code",
   "execution_count": 92,
   "metadata": {},
   "outputs": [
    {
     "name": "stdout",
     "output_type": "stream",
     "text": [
      "['kiwi']\n"
     ]
    }
   ],
   "source": [
    "print(fruits[-1:])"
   ]
  },
  {
   "cell_type": "code",
   "execution_count": 93,
   "metadata": {},
   "outputs": [
    {
     "name": "stdout",
     "output_type": "stream",
     "text": [
      "['Apples', 'Mango', 'Tomato', 'cherry', 'kiwi']\n"
     ]
    }
   ],
   "source": [
    "print(fruits)"
   ]
  },
  {
   "cell_type": "code",
   "execution_count": 94,
   "metadata": {},
   "outputs": [
    {
     "name": "stdout",
     "output_type": "stream",
     "text": [
      "perry\n"
     ]
    }
   ],
   "source": [
    "fruits[2] = \"perry\"\n",
    "print(fruits[2]) # Change in list items"
   ]
  },
  {
   "cell_type": "code",
   "execution_count": 95,
   "metadata": {},
   "outputs": [
    {
     "name": "stdout",
     "output_type": "stream",
     "text": [
      "['Apples', 'Mango', 'perry', 'cherry', 'kiwi']\n"
     ]
    }
   ],
   "source": [
    "print(fruits)"
   ]
  },
  {
   "cell_type": "code",
   "execution_count": 96,
   "metadata": {},
   "outputs": [],
   "source": [
    "fruits = [\"Apples\" , \"Mango\",\"Tomato\", \"cherry\" , \"kiwi\"]\n",
    "fruits.append(\"watermelon\") # add item at end"
   ]
  },
  {
   "cell_type": "code",
   "execution_count": 97,
   "metadata": {},
   "outputs": [
    {
     "name": "stdout",
     "output_type": "stream",
     "text": [
      "['Apples', 'Mango', 'Tomato', 'cherry', 'kiwi', 'watermelon']\n"
     ]
    }
   ],
   "source": [
    "print(fruits)"
   ]
  },
  {
   "cell_type": "code",
   "execution_count": 98,
   "metadata": {},
   "outputs": [
    {
     "name": "stdout",
     "output_type": "stream",
     "text": [
      "['Apples', 'Mangow', 'Mango', 'Tomato', 'cherry', 'kiwi', 'watermelon']\n"
     ]
    }
   ],
   "source": [
    "fruits.insert(1,\"Mangow\")\n",
    "print(fruits)"
   ]
  },
  {
   "cell_type": "code",
   "execution_count": 99,
   "metadata": {},
   "outputs": [
    {
     "name": "stdout",
     "output_type": "stream",
     "text": [
      "watermelon\n"
     ]
    }
   ],
   "source": [
    "popped_fruit = fruits.pop()\n",
    "print(popped_fruit)"
   ]
  },
  {
   "cell_type": "code",
   "execution_count": 100,
   "metadata": {},
   "outputs": [
    {
     "data": {
      "text/plain": [
       "2"
      ]
     },
     "execution_count": 100,
     "metadata": {},
     "output_type": "execute_result"
    }
   ],
   "source": [
    "# Gating index of fruit\n",
    "fruits.index(\"Mango\")"
   ]
  },
  {
   "cell_type": "code",
   "execution_count": 101,
   "metadata": {},
   "outputs": [
    {
     "data": {
      "text/plain": [
       "2"
      ]
     },
     "execution_count": 101,
     "metadata": {},
     "output_type": "execute_result"
    }
   ],
   "source": [
    "fruits.insert(2,\"Mango\")\n",
    "fruits.count(\"Mango\")"
   ]
  },
  {
   "cell_type": "code",
   "execution_count": 102,
   "metadata": {},
   "outputs": [
    {
     "name": "stdout",
     "output_type": "stream",
     "text": [
      "['Apples', 'Mango', 'Mango', 'Mangow', 'Tomato', 'cherry', 'kiwi']\n"
     ]
    }
   ],
   "source": [
    "# Sort as alphabetical\n",
    "fruits.sort()\n",
    "print(fruits)"
   ]
  },
  {
   "cell_type": "code",
   "execution_count": 103,
   "metadata": {},
   "outputs": [
    {
     "data": {
      "text/plain": [
       "['kiwi', 'cherry', 'Tomato', 'Mangow', 'Mango', 'Mango', 'Apples']"
      ]
     },
     "execution_count": 103,
     "metadata": {},
     "output_type": "execute_result"
    }
   ],
   "source": [
    "fruits.reverse()\n",
    "fruits"
   ]
  },
  {
   "cell_type": "code",
   "execution_count": 104,
   "metadata": {},
   "outputs": [
    {
     "name": "stdout",
     "output_type": "stream",
     "text": [
      "[3, 4, 5]\n",
      "[1, 2, 3, 4, 5]\n",
      "[6, 7, 8, 9, 10]\n",
      "[1, 3, 5, 7, 9]\n",
      "[10, 9, 8, 7, 6, 5, 4, 3, 2, 1]\n",
      "[10, 8, 6, 4, 2]\n"
     ]
    }
   ],
   "source": [
    "# Slicing the list\n",
    "number = [1,2,3,4,5,6,7,8,9,10]\n",
    "print(number[2:5])\n",
    "print(number[:5])\n",
    "print(number[5:])\n",
    "print(number[::2])\n",
    "print(number[::-1])\n",
    "print(number[::-2])\n"
   ]
  },
  {
   "cell_type": "code",
   "execution_count": 105,
   "metadata": {},
   "outputs": [
    {
     "name": "stdout",
     "output_type": "stream",
     "text": [
      "1\n",
      "2\n",
      "3\n",
      "4\n",
      "5\n",
      "6\n",
      "7\n",
      "8\n",
      "9\n",
      "10\n"
     ]
    }
   ],
   "source": [
    "# Iterating over list\n",
    "for number in number:\n",
    "    print(number)"
   ]
  },
  {
   "cell_type": "code",
   "execution_count": 106,
   "metadata": {},
   "outputs": [
    {
     "name": "stdout",
     "output_type": "stream",
     "text": [
      "0 1\n",
      "1 2\n",
      "2 3\n",
      "3 4\n",
      "4 5\n",
      "5 6\n",
      "6 7\n",
      "7 8\n",
      "8 9\n",
      "9 10\n"
     ]
    }
   ],
   "source": [
    "# Itteration with index\n",
    "numbers  = range(1,11)\n",
    "for index,my_number in enumerate(numbers):\n",
    "    print(index,my_number)"
   ]
  },
  {
   "cell_type": "code",
   "execution_count": 107,
   "metadata": {},
   "outputs": [
    {
     "name": "stdout",
     "output_type": "stream",
     "text": [
      "[1, 4, 9, 16, 25, 36, 49, 64, 81, 100]\n"
     ]
    }
   ],
   "source": [
    "square_num = []\n",
    "for i in range(1,11):\n",
    "    square_num.append(i**2)\n",
    "print(square_num)"
   ]
  },
  {
   "cell_type": "code",
   "execution_count": 108,
   "metadata": {},
   "outputs": [
    {
     "data": {
      "text/plain": [
       "[0, 1, 4, 9, 16, 25, 36, 49, 64, 81]"
      ]
     },
     "execution_count": 108,
     "metadata": {},
     "output_type": "execute_result"
    }
   ],
   "source": [
    "# List Comprehension \n",
    "[x ** 2  for x in range(10)]\n"
   ]
  },
  {
   "cell_type": "code",
   "execution_count": 109,
   "metadata": {},
   "outputs": [
    {
     "data": {
      "text/plain": [
       "[0, 2, 4, 6, 8]"
      ]
     },
     "execution_count": 109,
     "metadata": {},
     "output_type": "execute_result"
    }
   ],
   "source": [
    "[num for num in range(10) if num%2 == 0]"
   ]
  },
  {
   "cell_type": "code",
   "execution_count": 110,
   "metadata": {},
   "outputs": [
    {
     "data": {
      "text/plain": [
       "[[1, 11],\n",
       " [1, 12],\n",
       " [1, 13],\n",
       " [1, 14],\n",
       " [1, 15],\n",
       " [1, 16],\n",
       " [1, 17],\n",
       " [1, 18],\n",
       " [2, 11],\n",
       " [2, 12],\n",
       " [2, 13],\n",
       " [2, 14],\n",
       " [2, 15],\n",
       " [2, 16],\n",
       " [2, 17],\n",
       " [2, 18],\n",
       " [3, 11],\n",
       " [3, 12],\n",
       " [3, 13],\n",
       " [3, 14],\n",
       " [3, 15],\n",
       " [3, 16],\n",
       " [3, 17],\n",
       " [3, 18],\n",
       " [4, 11],\n",
       " [4, 12],\n",
       " [4, 13],\n",
       " [4, 14],\n",
       " [4, 15],\n",
       " [4, 16],\n",
       " [4, 17],\n",
       " [4, 18],\n",
       " [5, 11],\n",
       " [5, 12],\n",
       " [5, 13],\n",
       " [5, 14],\n",
       " [5, 15],\n",
       " [5, 16],\n",
       " [5, 17],\n",
       " [5, 18],\n",
       " [6, 11],\n",
       " [6, 12],\n",
       " [6, 13],\n",
       " [6, 14],\n",
       " [6, 15],\n",
       " [6, 16],\n",
       " [6, 17],\n",
       " [6, 18],\n",
       " [7, 11],\n",
       " [7, 12],\n",
       " [7, 13],\n",
       " [7, 14],\n",
       " [7, 15],\n",
       " [7, 16],\n",
       " [7, 17],\n",
       " [7, 18],\n",
       " [8, 11],\n",
       " [8, 12],\n",
       " [8, 13],\n",
       " [8, 14],\n",
       " [8, 15],\n",
       " [8, 16],\n",
       " [8, 17],\n",
       " [8, 18]]"
      ]
     },
     "execution_count": 110,
     "metadata": {},
     "output_type": "execute_result"
    }
   ],
   "source": [
    "a = [1,2,3,4,5,6,7,8]\n",
    "b = [11,12,13,14,15,16,17,18]\n",
    "[[i,j] for i in a for j in b]"
   ]
  },
  {
   "cell_type": "markdown",
   "metadata": {},
   "source": [
    "# Tuples"
   ]
  },
  {
   "cell_type": "code",
   "execution_count": 111,
   "metadata": {},
   "outputs": [
    {
     "name": "stdout",
     "output_type": "stream",
     "text": [
      "()\n",
      "<class 'tuple'>\n"
     ]
    }
   ],
   "source": [
    "empty_tuple = ()\n",
    "print(empty_tuple)\n",
    "print(type(empty_tuple))"
   ]
  },
  {
   "cell_type": "code",
   "execution_count": 112,
   "metadata": {},
   "outputs": [
    {
     "name": "stdout",
     "output_type": "stream",
     "text": [
      "<class 'list'>\n",
      "<class 'tuple'>\n"
     ]
    }
   ],
   "source": [
    "lst = list()\n",
    "print(type(lst))\n",
    "tpl = tuple()\n",
    "print(type(tpl))\n"
   ]
  },
  {
   "cell_type": "code",
   "execution_count": 113,
   "metadata": {},
   "outputs": [
    {
     "name": "stdout",
     "output_type": "stream",
     "text": [
      "<class 'tuple'>\n",
      "(1, 2, 3, 4, 5, 6)\n"
     ]
    }
   ],
   "source": [
    "number = tuple([1,2,3,4,5,6])\n",
    "print(type(number))\n",
    "print(number)"
   ]
  },
  {
   "cell_type": "code",
   "execution_count": 114,
   "metadata": {},
   "outputs": [
    {
     "name": "stdout",
     "output_type": "stream",
     "text": [
      "<class 'list'>\n"
     ]
    }
   ],
   "source": [
    "# list <--> tuple Conversion\n",
    "lst = list((1,2,3,4,5,6))\n",
    "print(type(lst))"
   ]
  },
  {
   "cell_type": "code",
   "execution_count": 115,
   "metadata": {},
   "outputs": [
    {
     "name": "stdout",
     "output_type": "stream",
     "text": [
      "(1, 'hello', 3.14, True)\n"
     ]
    }
   ],
   "source": [
    "mixed_tuple = (1,\"hello\",3.14,True)\n",
    "print(mixed_tuple)"
   ]
  },
  {
   "cell_type": "code",
   "execution_count": 116,
   "metadata": {},
   "outputs": [
    {
     "data": {
      "text/plain": [
       "(1, 2, 3, 4, 5, 6)"
      ]
     },
     "execution_count": 116,
     "metadata": {},
     "output_type": "execute_result"
    }
   ],
   "source": [
    "## Access Tuple elements\n",
    "number"
   ]
  },
  {
   "cell_type": "code",
   "execution_count": 117,
   "metadata": {},
   "outputs": [
    {
     "name": "stdout",
     "output_type": "stream",
     "text": [
      "3\n"
     ]
    }
   ],
   "source": [
    "print(number[2])"
   ]
  },
  {
   "cell_type": "code",
   "execution_count": 118,
   "metadata": {},
   "outputs": [
    {
     "name": "stdout",
     "output_type": "stream",
     "text": [
      "6\n"
     ]
    }
   ],
   "source": [
    "print(number[-1])"
   ]
  },
  {
   "cell_type": "code",
   "execution_count": 119,
   "metadata": {},
   "outputs": [
    {
     "data": {
      "text/plain": [
       "(1, 2, 3, 4, 5, 6)"
      ]
     },
     "execution_count": 119,
     "metadata": {},
     "output_type": "execute_result"
    }
   ],
   "source": [
    "number[::]"
   ]
  },
  {
   "cell_type": "code",
   "execution_count": 120,
   "metadata": {},
   "outputs": [
    {
     "data": {
      "text/plain": [
       "(6, 5, 4, 3, 2, 1)"
      ]
     },
     "execution_count": 120,
     "metadata": {},
     "output_type": "execute_result"
    }
   ],
   "source": [
    "number[::-1]"
   ]
  },
  {
   "cell_type": "code",
   "execution_count": 121,
   "metadata": {},
   "outputs": [
    {
     "name": "stdout",
     "output_type": "stream",
     "text": [
      "(1, 2, 3, 4, 5, 6, 1, 'hello', 3.14, True)\n"
     ]
    }
   ],
   "source": [
    "# Tuple operations \n",
    "new_tuple = number + mixed_tuple # --> Concatination operation \n",
    "print(new_tuple)"
   ]
  },
  {
   "cell_type": "code",
   "execution_count": 122,
   "metadata": {},
   "outputs": [
    {
     "data": {
      "text/plain": [
       "(1, 'hello', 3.14, True, 1, 'hello', 3.14, True, 1, 'hello', 3.14, True)"
      ]
     },
     "execution_count": 122,
     "metadata": {},
     "output_type": "execute_result"
    }
   ],
   "source": [
    "mixed_tuple * 3"
   ]
  },
  {
   "cell_type": "code",
   "execution_count": 123,
   "metadata": {},
   "outputs": [
    {
     "data": {
      "text/plain": [
       "(1, 2, 3, 4, 5, 6, 1, 2, 3, 4, 5, 6, 1, 2, 3, 4, 5, 6)"
      ]
     },
     "execution_count": 123,
     "metadata": {},
     "output_type": "execute_result"
    }
   ],
   "source": [
    "number * 3"
   ]
  },
  {
   "cell_type": "code",
   "execution_count": 124,
   "metadata": {},
   "outputs": [
    {
     "name": "stdout",
     "output_type": "stream",
     "text": [
      "[1, 2, 3, 4, 5, 6]\n",
      "[1, 'Omkar', 3, 4, 5, 6]\n"
     ]
    }
   ],
   "source": [
    "# Immutable Nature of Tuple\n",
    "lst = [1,2,3,4,5,6]\n",
    "print(lst)\n",
    "lst[1] = \"Omkar\"\n",
    "print(lst)"
   ]
  },
  {
   "cell_type": "code",
   "execution_count": 125,
   "metadata": {},
   "outputs": [
    {
     "name": "stdout",
     "output_type": "stream",
     "text": [
      "(1, 2, 32, 4, 5)\n"
     ]
    }
   ],
   "source": [
    "# Tuple is immutable \n",
    "tpl = (1,2,32,4,5)\n",
    "# tpl[1] = \"Krishna\"\n",
    "print(tpl)"
   ]
  },
  {
   "cell_type": "code",
   "execution_count": 126,
   "metadata": {},
   "outputs": [
    {
     "data": {
      "text/plain": [
       "(1, 2, 3, 4, 5, 6)"
      ]
     },
     "execution_count": 126,
     "metadata": {},
     "output_type": "execute_result"
    }
   ],
   "source": [
    "# Tuple Method\n",
    "number"
   ]
  },
  {
   "cell_type": "code",
   "execution_count": 127,
   "metadata": {},
   "outputs": [
    {
     "name": "stdout",
     "output_type": "stream",
     "text": [
      "1\n"
     ]
    }
   ],
   "source": [
    "print(number.count(1)) # it will count the 1 number inside the tuple"
   ]
  },
  {
   "cell_type": "code",
   "execution_count": 128,
   "metadata": {},
   "outputs": [
    {
     "name": "stdout",
     "output_type": "stream",
     "text": [
      "2\n"
     ]
    }
   ],
   "source": [
    "print(number.index(3)) # what number at index 3"
   ]
  },
  {
   "cell_type": "code",
   "execution_count": 129,
   "metadata": {},
   "outputs": [
    {
     "name": "stdout",
     "output_type": "stream",
     "text": [
      "(1, 23, 'hello')\n"
     ]
    }
   ],
   "source": [
    "# Packing and Unpacking tuple\n",
    "packing_tuple = 1,23,\"hello\"\n",
    "print(packing_tuple) # --> Convert to tpl (packing)"
   ]
  },
  {
   "cell_type": "code",
   "execution_count": 130,
   "metadata": {},
   "outputs": [
    {
     "name": "stdout",
     "output_type": "stream",
     "text": [
      "<class 'int'>\n",
      "<class 'str'>\n"
     ]
    }
   ],
   "source": [
    "# --> Unpacking \n",
    "a,b,c = packing_tuple\n",
    "print(type(a))\n",
    "print(type(c)) # --> Convert it into it's own type "
   ]
  },
  {
   "cell_type": "code",
   "execution_count": 131,
   "metadata": {},
   "outputs": [
    {
     "name": "stdout",
     "output_type": "stream",
     "text": [
      "1\n",
      "[2, 3, 4, 5]\n",
      "6\n"
     ]
    }
   ],
   "source": [
    "# Unpacking with *\n",
    "number = (1,2,3,4,5,6)\n",
    "first,*middle,last = number\n",
    "print(first)\n",
    "print(middle) # * at as middel b/w the first and last\n",
    "print(last)"
   ]
  },
  {
   "cell_type": "code",
   "execution_count": 132,
   "metadata": {},
   "outputs": [
    {
     "name": "stdout",
     "output_type": "stream",
     "text": [
      "[1, 23, 24, 4]\n",
      "23\n",
      "hee\n"
     ]
    }
   ],
   "source": [
    "# Nested Tuple\n",
    "# Neseted List\n",
    "lst = [[1,23,24,4],[12,123,22,22],[\"hee\",'122',233,33]]\n",
    "print(lst[0])\n",
    "print(lst[0][1])\n",
    "print(lst[2][0])"
   ]
  },
  {
   "cell_type": "code",
   "execution_count": 133,
   "metadata": {},
   "outputs": [
    {
     "name": "stdout",
     "output_type": "stream",
     "text": [
      "2\n"
     ]
    }
   ],
   "source": [
    "tpl = ((1,2,234,2),(\"om\",123,2,2),(2,2,2,2))\n",
    "print(tpl[0][1])"
   ]
  },
  {
   "cell_type": "markdown",
   "metadata": {},
   "source": [
    "# Sets"
   ]
  },
  {
   "cell_type": "code",
   "execution_count": 134,
   "metadata": {},
   "outputs": [
    {
     "name": "stdout",
     "output_type": "stream",
     "text": [
      "<class 'set'>\n"
     ]
    }
   ],
   "source": [
    "# Collection of unique terms\n",
    "# 1.Don't Allow the repetation \n",
    "# 2.Perform Mathamatical Operation\n",
    "My_set = {1,2,3,4,5}\n",
    "print(type(My_set))"
   ]
  },
  {
   "cell_type": "code",
   "execution_count": 135,
   "metadata": {},
   "outputs": [
    {
     "name": "stdout",
     "output_type": "stream",
     "text": [
      "{1, 2, 3, 4, 5}\n"
     ]
    }
   ],
   "source": [
    "print(My_set)"
   ]
  },
  {
   "cell_type": "code",
   "execution_count": 136,
   "metadata": {},
   "outputs": [
    {
     "name": "stdout",
     "output_type": "stream",
     "text": [
      "{6, 7, 8, 9, 10}\n",
      "<class 'set'>\n",
      "{1, 2, 3, 4, 34, 5}\n"
     ]
    }
   ],
   "source": [
    "My_set_1 = {6,7,8,9,10}\n",
    "print(My_set_1)\n",
    "my_empty_set = set([1,2,3,4,4,34,5])\n",
    "print(type(my_empty_set))\n",
    "print(my_empty_set)"
   ]
  },
  {
   "cell_type": "code",
   "execution_count": 137,
   "metadata": {},
   "outputs": [],
   "source": [
    "# Basic Set Operations\n",
    "# Adding and remove element\n",
    "my_empty_set.add(6)"
   ]
  },
  {
   "cell_type": "code",
   "execution_count": 138,
   "metadata": {},
   "outputs": [
    {
     "name": "stdout",
     "output_type": "stream",
     "text": [
      "{1, 2, 3, 4, 34, 5, 6}\n"
     ]
    }
   ],
   "source": [
    "print(my_empty_set)"
   ]
  },
  {
   "cell_type": "code",
   "execution_count": 139,
   "metadata": {},
   "outputs": [
    {
     "name": "stdout",
     "output_type": "stream",
     "text": [
      "{1, 2, 4, 34, 5, 6}\n"
     ]
    }
   ],
   "source": [
    "# remove\n",
    "my_empty_set.remove(3)\n",
    "print(my_empty_set)"
   ]
  },
  {
   "cell_type": "code",
   "execution_count": 140,
   "metadata": {},
   "outputs": [
    {
     "name": "stdout",
     "output_type": "stream",
     "text": [
      "{1, 2, 4, 34, 5, 6}\n"
     ]
    }
   ],
   "source": [
    "# if the element is not present in the set and we try to remove it it will show error\n",
    "# so we use discard\n",
    "my_empty_set.discard(1111)\n",
    "print(my_empty_set)"
   ]
  },
  {
   "cell_type": "code",
   "execution_count": 141,
   "metadata": {},
   "outputs": [
    {
     "name": "stdout",
     "output_type": "stream",
     "text": [
      "1\n"
     ]
    }
   ],
   "source": [
    "# pop --> first element remove and save\n",
    "removed_element = my_empty_set.pop()\n",
    "print(removed_element)"
   ]
  },
  {
   "cell_type": "code",
   "execution_count": 142,
   "metadata": {},
   "outputs": [
    {
     "name": "stdout",
     "output_type": "stream",
     "text": [
      "set()\n"
     ]
    }
   ],
   "source": [
    "# clear all element\n",
    "my_empty_set.clear()\n",
    "print(my_empty_set)"
   ]
  },
  {
   "cell_type": "code",
   "execution_count": 143,
   "metadata": {},
   "outputs": [
    {
     "name": "stdout",
     "output_type": "stream",
     "text": [
      "True\n",
      "False\n"
     ]
    }
   ],
   "source": [
    "# set membership test\n",
    "my_set = {1,2,3,4,5}\n",
    "print(3 in my_set)\n",
    "print(11 in my_set)"
   ]
  },
  {
   "cell_type": "code",
   "execution_count": 144,
   "metadata": {},
   "outputs": [
    {
     "name": "stdout",
     "output_type": "stream",
     "text": [
      "{1, 2, 3, 4, 5, 6, 9, 21, 87}\n"
     ]
    }
   ],
   "source": [
    "# Mathematical Operation\n",
    "set1 = {1,2,3,4,5,6}\n",
    "set2 = {9,87,6,5,4,3,21}\n",
    "# union\n",
    "union_set = set1.union(set2)\n",
    "print(union_set)\n"
   ]
  },
  {
   "cell_type": "code",
   "execution_count": 145,
   "metadata": {},
   "outputs": [
    {
     "name": "stdout",
     "output_type": "stream",
     "text": [
      "{3, 4, 5, 6}\n"
     ]
    }
   ],
   "source": [
    "# intersection\n",
    "Intersection_set = set1.intersection(set2)\n",
    "print(Intersection_set)"
   ]
  },
  {
   "cell_type": "code",
   "execution_count": 146,
   "metadata": {},
   "outputs": [
    {
     "name": "stdout",
     "output_type": "stream",
     "text": [
      "{3, 4, 5, 6}\n"
     ]
    }
   ],
   "source": [
    "set1.intersection_update(set2) # It update the set1 as per intersection of set2 and set1\n",
    "print(set1)\n",
    "set1 = {1,2,3,4,5,6}"
   ]
  },
  {
   "cell_type": "code",
   "execution_count": 147,
   "metadata": {},
   "outputs": [
    {
     "name": "stdout",
     "output_type": "stream",
     "text": [
      "{1, 2}\n"
     ]
    }
   ],
   "source": [
    "# Diffrence\n",
    "print(set1.difference(set2))\n",
    "# remove common element b/w set1 and set2\n",
    "# also same for difference_update "
   ]
  },
  {
   "cell_type": "code",
   "execution_count": 148,
   "metadata": {},
   "outputs": [
    {
     "name": "stdout",
     "output_type": "stream",
     "text": [
      "{1, 2, 9, 21, 87}\n"
     ]
    }
   ],
   "source": [
    "# Symmetric Diffrence \n",
    "# common elements are remove\n",
    "print(set1.symmetric_difference(set2))\n"
   ]
  },
  {
   "cell_type": "code",
   "execution_count": 149,
   "metadata": {},
   "outputs": [
    {
     "name": "stdout",
     "output_type": "stream",
     "text": [
      "False\n",
      "False\n"
     ]
    }
   ],
   "source": [
    "# Set Method \n",
    "set1 = {1,2,3}\n",
    "set2 = {4,5,6}\n",
    "# is subset\n",
    "print(set1.issubset(set2)) # --> set1 is subset of set2 ?\n",
    "print(set1.issuperset(set2)) # --> set1 is superset of set2>"
   ]
  },
  {
   "cell_type": "code",
   "execution_count": 150,
   "metadata": {},
   "outputs": [
    {
     "name": "stdout",
     "output_type": "stream",
     "text": [
      "<class 'set'>\n"
     ]
    }
   ],
   "source": [
    "# Conversion \n",
    "lst = {1,2,3,4,5}\n",
    "my_set = set(lst)\n",
    "print(type(my_set))"
   ]
  },
  {
   "cell_type": "code",
   "execution_count": 151,
   "metadata": {},
   "outputs": [
    {
     "name": "stdout",
     "output_type": "stream",
     "text": [
      "{'see', 'to', 'Omkar', 'glad', 'my', 'and', 'Phadatare', 'is', 'Ajitkumar', 'am', 'name', 'i'}\n",
      "12\n"
     ]
    }
   ],
   "source": [
    "# Calculate the unique word \n",
    "text = \"Omkar Ajitkumar Phadatare is my name and i am glad to see i\"\n",
    "words = text.split()\n",
    "# convert it into set\n",
    "set_words = set(words)\n",
    "print(set_words)\n",
    "print(len(set_words))"
   ]
  },
  {
   "cell_type": "markdown",
   "metadata": {},
   "source": [
    "# Dictionaries"
   ]
  },
  {
   "cell_type": "code",
   "execution_count": 152,
   "metadata": {},
   "outputs": [
    {
     "name": "stdout",
     "output_type": "stream",
     "text": [
      "<class 'dict'>\n"
     ]
    }
   ],
   "source": [
    "# Unorder Collection of items\n",
    "# that contain key-vales \n",
    "# (Key is Immuatable)\n",
    "# It include String number and tuples\n",
    "empty_dic = {}\n",
    "print(type(empty_dic))"
   ]
  },
  {
   "cell_type": "code",
   "execution_count": 153,
   "metadata": {},
   "outputs": [
    {
     "name": "stdout",
     "output_type": "stream",
     "text": [
      "John Doe\n",
      "JavaScript\n",
      "New York\n"
     ]
    }
   ],
   "source": [
    "empty_dic = dict()\n",
    "person = {\n",
    "    \"name\": \"John Doe\",\n",
    "    \"age\": 30,\n",
    "    \"is_student\": False,\n",
    "    \"skills\": [\"Python\", \"JavaScript\", \"Data Analysis\"],\n",
    "    \"address\": {\n",
    "        \"street\": \"123 Main St\",\n",
    "        \"city\": \"New York\",\n",
    "        \"zip_code\": \"10001\"\n",
    "    }\n",
    "}\n",
    "student = {\"name\" : \"Omkar Ajitkumar Phadatare\",\n",
    "           \"age\" : 32,\n",
    "           \"is_student\" : True}\n",
    "\n",
    "# Accessing Dictionary values\n",
    "print(person[\"name\"])\n",
    "print(person[\"skills\"][1])\n",
    "print(person[\"address\"][\"city\"])"
   ]
  },
  {
   "cell_type": "code",
   "execution_count": 154,
   "metadata": {},
   "outputs": [
    {
     "name": "stdout",
     "output_type": "stream",
     "text": [
      "32\n",
      "John Doe\n",
      "Not Found\n",
      "32\n"
     ]
    }
   ],
   "source": [
    "print(student[\"age\"])\n",
    "# Access the values using Get Method\n",
    "\n",
    "print(person.get(\"name\", \"Not Found\"))\n",
    "print(student.get(\"phone\", \"Not Found\"))\n",
    "print(student.get(\"age\",\"Not Found\"))"
   ]
  },
  {
   "cell_type": "code",
   "execution_count": 155,
   "metadata": {},
   "outputs": [
    {
     "name": "stdout",
     "output_type": "stream",
     "text": [
      "{'name': 'Omkar Ajitkumar Phadatare', 'age': 32, 'is_student': True}\n"
     ]
    }
   ],
   "source": [
    "# Modify the dict \n",
    "# dict is mutable so we can add and delete element\n",
    "print(student)"
   ]
  },
  {
   "cell_type": "code",
   "execution_count": 156,
   "metadata": {},
   "outputs": [
    {
     "name": "stdout",
     "output_type": "stream",
     "text": [
      "{'name': 'Raj Aryan', 'age': 32, 'is_student': True, 'phone': '1234567890'}\n"
     ]
    }
   ],
   "source": [
    "student[\"phone\"] = \"1234567890\"\n",
    "student[\"name\"] = \"Raj Aryan\"\n",
    "print(student)"
   ]
  },
  {
   "cell_type": "code",
   "execution_count": 157,
   "metadata": {},
   "outputs": [
    {
     "name": "stdout",
     "output_type": "stream",
     "text": [
      "{'age': 32, 'is_student': True, 'phone': '1234567890'}\n"
     ]
    }
   ],
   "source": [
    "# delete element and key\n",
    "del student['name'] \n",
    "print(student)"
   ]
  },
  {
   "cell_type": "code",
   "execution_count": 160,
   "metadata": {},
   "outputs": [
    {
     "name": "stdout",
     "output_type": "stream",
     "text": [
      "dict_keys(['age', 'is_student', 'phone'])\n",
      "dict_values([32, True, '1234567890'])\n"
     ]
    }
   ],
   "source": [
    "# dict methods\n",
    "keys = student.keys()\n",
    "print(keys)\n",
    "values = student.values()\n",
    "print(values)"
   ]
  },
  {
   "cell_type": "code",
   "execution_count": 161,
   "metadata": {},
   "outputs": [
    {
     "name": "stdout",
     "output_type": "stream",
     "text": [
      "dict_items([('age', 32), ('is_student', True), ('phone', '1234567890')])\n"
     ]
    }
   ],
   "source": [
    "items = student.items() #--> get all keys and values pair\n",
    "print(items)"
   ]
  },
  {
   "cell_type": "code",
   "execution_count": 163,
   "metadata": {},
   "outputs": [
    {
     "name": "stdout",
     "output_type": "stream",
     "text": [
      "{'age': 32, 'is_student': True, 'phone': '1234567890'}\n",
      "{'age': 32, 'is_student': True, 'phone': '1234567890'}\n"
     ]
    }
   ],
   "source": [
    "# Shallow Copy\n",
    "student_copy = student\n",
    "print(student)\n",
    "print(student_copy)"
   ]
  },
  {
   "cell_type": "code",
   "execution_count": 164,
   "metadata": {},
   "outputs": [],
   "source": [
    "student[\"name\"] = \"Omkar Phadatare\""
   ]
  },
  {
   "cell_type": "code",
   "execution_count": 165,
   "metadata": {},
   "outputs": [
    {
     "name": "stdout",
     "output_type": "stream",
     "text": [
      "{'age': 32, 'is_student': True, 'phone': '1234567890', 'name': 'Omkar Phadatare'}\n",
      "{'age': 32, 'is_student': True, 'phone': '1234567890', 'name': 'Omkar Phadatare'}\n"
     ]
    }
   ],
   "source": [
    "print(student)\n",
    "print(student_copy) # here as we change in studnet it will itterate in student_copy as well as so"
   ]
  },
  {
   "cell_type": "code",
   "execution_count": 166,
   "metadata": {},
   "outputs": [
    {
     "name": "stdout",
     "output_type": "stream",
     "text": [
      "{'age': 32, 'is_student': True, 'phone': '1234567890', 'name': 'Omkar Phadatare'}\n",
      "{'age': 32, 'is_student': True, 'phone': '1234567890', 'name': 'Omkar Phadatare'}\n"
     ]
    }
   ],
   "source": [
    "new_student_copy = student.copy() # shallow copy\n",
    "# give diffrent location\n",
    "print(new_student_copy)\n",
    "print(student)"
   ]
  },
  {
   "cell_type": "code",
   "execution_count": 167,
   "metadata": {},
   "outputs": [
    {
     "name": "stdout",
     "output_type": "stream",
     "text": [
      "{'age': 32, 'is_student': True, 'phone': '1234567890', 'name': 'Omkar Ajitkumar Phadatare'}\n",
      "{'age': 32, 'is_student': True, 'phone': '1234567890', 'name': 'Omkar Phadatare'}\n"
     ]
    }
   ],
   "source": [
    "student[\"name\"] = \"Omkar Ajitkumar Phadatare\"\n",
    "print(student)\n",
    "print(new_student_copy)"
   ]
  },
  {
   "cell_type": "code",
   "execution_count": 168,
   "metadata": {},
   "outputs": [
    {
     "name": "stdout",
     "output_type": "stream",
     "text": [
      "age\n",
      "is_student\n",
      "phone\n",
      "name\n"
     ]
    }
   ],
   "source": [
    "# Itterate over dict loops\n",
    "for keys in student.keys():\n",
    "    print(keys)"
   ]
  },
  {
   "cell_type": "code",
   "execution_count": 170,
   "metadata": {},
   "outputs": [
    {
     "name": "stdout",
     "output_type": "stream",
     "text": [
      "32\n",
      "True\n",
      "1234567890\n",
      "Omkar Ajitkumar Phadatare\n"
     ]
    }
   ],
   "source": [
    "for values in student.values():\n",
    "    print(values)"
   ]
  },
  {
   "cell_type": "code",
   "execution_count": 173,
   "metadata": {},
   "outputs": [
    {
     "name": "stdout",
     "output_type": "stream",
     "text": [
      "age == 32\n",
      "is_student == True\n",
      "phone == 1234567890\n",
      "name == Omkar Ajitkumar Phadatare\n"
     ]
    }
   ],
   "source": [
    "for keys,values in student.items():\n",
    "    print(f'{keys} == {values}')"
   ]
  },
  {
   "cell_type": "code",
   "execution_count": 178,
   "metadata": {},
   "outputs": [],
   "source": [
    "# Nested dict\n",
    "student = {\n",
    "    \"student_1\" : {\"name\":\"omkar\",\n",
    "                \"age\" : 23,\n",
    "                \"Is_student\" : True},\n",
    "    \"student_2\" : {\"name\":\"ravi\",\n",
    "                \"age\": 22,\n",
    "                \"Is_student\" : False}\n",
    "}\n"
   ]
  },
  {
   "cell_type": "code",
   "execution_count": 181,
   "metadata": {},
   "outputs": [
    {
     "name": "stdout",
     "output_type": "stream",
     "text": [
      "omkar\n",
      "23\n"
     ]
    }
   ],
   "source": [
    "print(student[\"student_1\"][\"name\"])\n",
    "print(student[\"student_1\"][\"age\"])"
   ]
  },
  {
   "cell_type": "code",
   "execution_count": 182,
   "metadata": {},
   "outputs": [
    {
     "data": {
      "text/plain": [
       "dict_items([('student_1', {'name': 'omkar', 'age': 23, 'Is_student': True}), ('student_2', {'name': 'ravi', 'age': 22, 'Is_student': False})])"
      ]
     },
     "execution_count": 182,
     "metadata": {},
     "output_type": "execute_result"
    }
   ],
   "source": [
    "student.items()"
   ]
  },
  {
   "cell_type": "code",
   "execution_count": 185,
   "metadata": {},
   "outputs": [
    {
     "name": "stdout",
     "output_type": "stream",
     "text": [
      "name:omkar\n",
      "age:23\n",
      "Is_student:True\n",
      "name:ravi\n",
      "age:22\n",
      "Is_student:False\n"
     ]
    }
   ],
   "source": [
    "for student_id , studnet_info in student.items():\n",
    "    \n",
    "    for key,values in studnet_info.items():\n",
    "        print(f\"{key}:{values}\")"
   ]
  },
  {
   "cell_type": "code",
   "execution_count": 186,
   "metadata": {},
   "outputs": [],
   "source": [
    "# dict comphrehension\n",
    "square = {x:x**2 for x in range(5)}"
   ]
  },
  {
   "cell_type": "code",
   "execution_count": 187,
   "metadata": {},
   "outputs": [
    {
     "name": "stdout",
     "output_type": "stream",
     "text": [
      "{0: 0, 1: 1, 2: 4, 3: 9, 4: 16}\n"
     ]
    }
   ],
   "source": [
    "print(square)"
   ]
  },
  {
   "cell_type": "code",
   "execution_count": 188,
   "metadata": {},
   "outputs": [],
   "source": [
    "even = {x:x**2 for x in range(5) if x%2==0}"
   ]
  },
  {
   "cell_type": "code",
   "execution_count": 189,
   "metadata": {},
   "outputs": [
    {
     "name": "stdout",
     "output_type": "stream",
     "text": [
      "{0: 0, 2: 4, 4: 16}\n"
     ]
    }
   ],
   "source": [
    "print(even)"
   ]
  },
  {
   "cell_type": "code",
   "execution_count": 190,
   "metadata": {},
   "outputs": [
    {
     "name": "stdout",
     "output_type": "stream",
     "text": [
      "{1: 1, 2: 2, 3: 2, 4: 1, 5: 1, 6: 1, 7: 1, 88: 1, 8: 1}\n"
     ]
    }
   ],
   "source": [
    "# Use a dict to count the freq of elements in list\n",
    "numbers = [1,2,2,3,3,4,5,6,7,88,8]\n",
    "frequency = {}\n",
    "for number in numbers:\n",
    "    if number in frequency:\n",
    "        frequency[number] += 1\n",
    "    else:\n",
    "        frequency[number] = 1\n",
    "print(frequency)\n"
   ]
  },
  {
   "cell_type": "code",
   "execution_count": 192,
   "metadata": {},
   "outputs": [],
   "source": [
    "# Merge 2 dict\n",
    "dict1 = {\"a\":1,\"b\":2}\n",
    "dict2 = {\"c\":3,\n",
    "         \"d\":6}\n"
   ]
  },
  {
   "cell_type": "code",
   "execution_count": 193,
   "metadata": {},
   "outputs": [],
   "source": [
    "mearged = {**dict1,**dict2}"
   ]
  },
  {
   "cell_type": "code",
   "execution_count": 194,
   "metadata": {},
   "outputs": [
    {
     "name": "stdout",
     "output_type": "stream",
     "text": [
      "{'a': 1, 'b': 2, 'c': 3, 'd': 6}\n"
     ]
    }
   ],
   "source": [
    "print(mearged)"
   ]
  },
  {
   "cell_type": "markdown",
   "metadata": {},
   "source": [
    "# Real World Application"
   ]
  },
  {
   "cell_type": "code",
   "execution_count": 195,
   "metadata": {},
   "outputs": [
    {
     "name": "stdout",
     "output_type": "stream",
     "text": [
      "Don't forget to copy notes\n",
      "TO do reamining\n",
      "-analog 1\n",
      "-analog 3\n",
      "-analog lab\n",
      "-dsa lab\n",
      "-line 1\n"
     ]
    }
   ],
   "source": [
    "# to do list\n",
    "to_do_list = [\"analog 1\",\n",
    "              \"analog 3\",\n",
    "              \"analog 2\",\n",
    "              \"analog lab\"]\n",
    "# Add element\n",
    "to_do_list.append(\"dsa lab\")\n",
    "to_do_list.append(\"line 1\")\n",
    "# Remove tast\n",
    "to_do_list.remove(\"analog 2\")\n",
    "# check working\n",
    "if \"line 1\" in to_do_list:\n",
    "    print(\"Don't forget to copy notes\")\n",
    "print(\"TO do reamining\")\n",
    "for task in to_do_list:\n",
    "    print(f\"-{task}\")"
   ]
  }
 ],
 "metadata": {
  "kernelspec": {
   "display_name": "Python 3",
   "language": "python",
   "name": "python3"
  },
  "language_info": {
   "codemirror_mode": {
    "name": "ipython",
    "version": 3
   },
   "file_extension": ".py",
   "mimetype": "text/x-python",
   "name": "python",
   "nbconvert_exporter": "python",
   "pygments_lexer": "ipython3",
   "version": "3.10.0"
  }
 },
 "nbformat": 4,
 "nbformat_minor": 2
}
