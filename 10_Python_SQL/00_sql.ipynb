{
 "cells": [
  {
   "cell_type": "markdown",
   "metadata": {},
   "source": [
    "# SQL and SQlite \n",
    "1. SQL: SQL (Structured Query Language) is a programming language designed for managing relational databases. It provides a set of rules and commands to interact with the database.\n",
    "2. SQLite: SQLite is a lightweight disk-based database that doesn't require a separate server process and allows accessing the database using a nonstandard variant of the SQL query language. It is designed to be embedded"
   ]
  },
  {
   "cell_type": "code",
   "execution_count": 1,
   "metadata": {},
   "outputs": [
    {
     "data": {
      "text/plain": [
       "<sqlite3.Connection at 0x20b8e0a0240>"
      ]
     },
     "execution_count": 1,
     "metadata": {},
     "output_type": "execute_result"
    }
   ],
   "source": [
    "import sqlite3\n",
    "\n",
    "# Connect to the SQLite database\n",
    "conn = sqlite3.connect('my_database.db')\n",
    "conn"
   ]
  },
  {
   "cell_type": "code",
   "execution_count": null,
   "metadata": {},
   "outputs": [],
   "source": [
    "# Create a cursor to ittrate the database\n",
    "cursor = conn.cursor()\n"
   ]
  },
  {
   "cell_type": "code",
   "execution_count": 3,
   "metadata": {},
   "outputs": [
    {
     "data": {
      "text/plain": [
       "<sqlite3.Cursor at 0x20b8dfc1ec0>"
      ]
     },
     "execution_count": 3,
     "metadata": {},
     "output_type": "execute_result"
    }
   ],
   "source": [
    "# Create a table \n",
    "cursor.execute('''\n",
    "    CREATE TABLE if not Exists employees (\n",
    "        id INTEGER PRIMARY KEY,\n",
    "        name TEXT NOT NULL,\n",
    "        age INTEGER NOT NULL,\n",
    "        department TEXT NOT NULL)\n",
    "    ''')"
   ]
  },
  {
   "cell_type": "code",
   "execution_count": 4,
   "metadata": {},
   "outputs": [],
   "source": [
    "# Commit the changes\n",
    "conn.commit()"
   ]
  },
  {
   "cell_type": "code",
   "execution_count": 5,
   "metadata": {},
   "outputs": [
    {
     "data": {
      "text/plain": [
       "<sqlite3.Cursor at 0x20b8dfc1ec0>"
      ]
     },
     "execution_count": 5,
     "metadata": {},
     "output_type": "execute_result"
    }
   ],
   "source": [
    "## Insert data into the table\n",
    "cursor.execute(\"INSERT INTO employees VALUES (1, 'John Doe', 30, 'IT')\")"
   ]
  },
  {
   "cell_type": "code",
   "execution_count": 6,
   "metadata": {},
   "outputs": [],
   "source": [
    "cursor.execute(\"INSERT INTO employees VALUES (2, 'Jane Smith', 28, 'HR')\")\n",
    "cursor.execute('''INSERT INTO employees VALUES (3, 'Alice Johnson', 35, 'Finance')''')\n",
    "conn.commit()"
   ]
  },
  {
   "cell_type": "code",
   "execution_count": 7,
   "metadata": {},
   "outputs": [
    {
     "name": "stdout",
     "output_type": "stream",
     "text": [
      "(1, 'John Doe', 30, 'IT')\n",
      "(2, 'Jane Smith', 28, 'HR')\n",
      "(3, 'Alice Johnson', 35, 'Finance')\n"
     ]
    }
   ],
   "source": [
    "## Query the data\n",
    "\n",
    "cursor.execute(\"SELECT * FROM employees\")\n",
    "rows = cursor.fetchall()\n",
    "for row in rows:\n",
    "    print(row)\n",
    "# Close the connection"
   ]
  },
  {
   "cell_type": "code",
   "execution_count": 8,
   "metadata": {},
   "outputs": [
    {
     "name": "stdout",
     "output_type": "stream",
     "text": [
      "(1, 'John Doe', 31, 'IT')\n"
     ]
    }
   ],
   "source": [
    "# Update a record\n",
    "\n",
    "cursor.execute(\"UPDATE employees SET age = 31 WHERE id = 1\")\n",
    "conn.commit()\n",
    "\n",
    "# Query the updated data\n",
    "\n",
    "cursor.execute(\"SELECT * FROM employees WHERE id = 1\")\n",
    "rows = cursor.fetchall()\n",
    "for row in rows:\n",
    "    print(row)\n",
    "# Delete a record"
   ]
  },
  {
   "cell_type": "code",
   "execution_count": 9,
   "metadata": {},
   "outputs": [
    {
     "name": "stdout",
     "output_type": "stream",
     "text": [
      "(1, 'John Doe', 31, 'IT')\n",
      "(2, 'Jane Smith', 28, 'HR')\n"
     ]
    }
   ],
   "source": [
    "# delte data from the table\n",
    "\n",
    "cursor.execute(\"DELETE FROM employees WHERE id = 3\")\n",
    "conn.commit()\n",
    "\n",
    "# Query \n",
    "\n",
    "cursor.execute(\"SELECT * FROM employees\")\n",
    "rows = cursor.fetchall()\n",
    "for row in rows:\n",
    "    print(row)\n",
    "# Close the connection"
   ]
  },
  {
   "cell_type": "code",
   "execution_count": 10,
   "metadata": {},
   "outputs": [],
   "source": [
    "## Working with Sales data \n",
    "conn = sqlite3.connect('sales_data.db')\n",
    "\n",
    "cursor = conn.cursor()\n",
    "\n",
    "# Create a table\n",
    "\n",
    "cursor.execute('''\n",
    "    CREATE TABLE if not Exists sales (\n",
    "        id INTEGER PRIMARY KEY,\n",
    "        product TEXT NOT NULL,\n",
    "        quantity INTEGER NOT NULL,\n",
    "        price REAL NOT NULL,\n",
    "        date TEXT NOT NULL)\n",
    "    ''')\n",
    "\n",
    "# Commit the changes\n",
    "\n",
    "conn.commit()\n",
    "\n",
    "# Insert data into the table\n",
    "\n",
    "cursor.execute(\"INSERT INTO sales VALUES (1, 'Product A', 100, 10.0, '2022-01-01')\")\n",
    "cursor.execute(\"INSERT INTO sales VALUES (2, 'Product B', 50, 15.0, '2022-01-02')\")\n",
    "cursor.execute(\"INSERT INTO sales VALUES (3, 'Product C', 150, 20.0, '2022-01-03')\")\n",
    "cursor.execute(\"INSERT INTO sales VALUES (4, 'Product D', 200, 25.0, '2022-01-04')\")\n",
    "conn.commit()"
   ]
  },
  {
   "cell_type": "code",
   "execution_count": 11,
   "metadata": {},
   "outputs": [
    {
     "name": "stdout",
     "output_type": "stream",
     "text": [
      "(1, 'Product A', 100, 10.0, '2022-01-01')\n",
      "(2, 'Product B', 50, 15.0, '2022-01-02')\n",
      "(3, 'Product C', 150, 20.0, '2022-01-03')\n",
      "(4, 'Product D', 200, 25.0, '2022-01-04')\n"
     ]
    }
   ],
   "source": [
    "# query the data\n",
    "\n",
    "cursor.execute(\"SELECT * FROM sales\")\n",
    "rows = cursor.fetchall()\n",
    "for row in rows:\n",
    "    print(row)"
   ]
  },
  {
   "cell_type": "code",
   "execution_count": 12,
   "metadata": {},
   "outputs": [],
   "source": [
    "# Multiple insertion \n",
    "\n",
    "data = [(5, 'Product E', 75, 30.0, '2022-01-05'),\n",
    "        (6, 'Product F', 125, 35.0, '2022-01-06')]\n",
    "\n",
    "cursor.executemany(\"INSERT INTO sales VALUES (?,?,?,?,?)\", data)\n",
    "conn.commit()"
   ]
  },
  {
   "cell_type": "code",
   "execution_count": null,
   "metadata": {},
   "outputs": [
    {
     "name": "stdout",
     "output_type": "stream",
     "text": [
      "(1, 'Product A', 100, 10.0, '2022-01-01')\n",
      "(2, 'Product B', 50, 15.0, '2022-01-02')\n",
      "(3, 'Product C', 150, 20.0, '2022-01-03')\n",
      "(4, 'Product D', 200, 25.0, '2022-01-04')\n",
      "(5, 'Product E', 75, 30.0, '2022-01-05')\n",
      "(6, 'Product F', 125, 35.0, '2022-01-06')\n"
     ]
    }
   ],
   "source": [
    "# Query the updated data\n",
    "\n",
    "cursor.execute(\"SELECT * FROM sales\")\n",
    "rows = cursor.fetchall()\n",
    "for row in rows:\n",
    "    print(row)\n",
    "# Close the connection"
   ]
  },
  {
   "cell_type": "code",
   "execution_count": 14,
   "metadata": {},
   "outputs": [],
   "source": [
    "# Close the connection\n",
    "\n",
    "conn.close()"
   ]
  },
  {
   "cell_type": "code",
   "execution_count": null,
   "metadata": {},
   "outputs": [],
   "source": []
  }
 ],
 "metadata": {
  "kernelspec": {
   "display_name": "Python 3",
   "language": "python",
   "name": "python3"
  },
  "language_info": {
   "codemirror_mode": {
    "name": "ipython",
    "version": 3
   },
   "file_extension": ".py",
   "mimetype": "text/x-python",
   "name": "python",
   "nbconvert_exporter": "python",
   "pygments_lexer": "ipython3",
   "version": "3.10.0"
  }
 },
 "nbformat": 4,
 "nbformat_minor": 2
}
