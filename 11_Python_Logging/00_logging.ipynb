{
 "cells": [
  {
   "cell_type": "markdown",
   "metadata": {},
   "source": [
    "# Python Logging\n",
    "1.  logging is a built-in module in Python that provides a flexible and configurable logging system. It allows you to log messages at different levels (e.g., DEBUG, INFO, WARNING, ERROR,etc)\n",
    "\n"
   ]
  },
  {
   "cell_type": "code",
   "execution_count": 4,
   "metadata": {},
   "outputs": [
    {
     "name": "stderr",
     "output_type": "stream",
     "text": [
      "DEBUG:root:This is a debug message\n",
      "INFO:root:This is an info message\n",
      "WARNING:root:This is a warning message\n",
      "ERROR:root:This is an error message\n",
      "CRITICAL:root:This is a critical message\n"
     ]
    }
   ],
   "source": [
    "# import logging\n",
    "\n",
    "# # configure logging basic settings\n",
    "\n",
    "# logging.basicConfig(\n",
    "#     level=logging.DEBUG,  # set logging level to DEBUG for detailed logs\n",
    "    \n",
    "# )\n",
    "\n",
    "# # log messages at different levels\n",
    "\n",
    "# logging.debug('This is a debug message')  # logs at DEBUG level\n",
    "# logging.info('This is an info message')  # logs at INFO level\n",
    "# logging.warning('This is a warning message')  # logs at WARNING level\n",
    "# logging.error('This is an error message')  # logs at ERROR level\n",
    "# logging.critical('This is a critical message')  # logs at CRITICAL level"
   ]
  },
  {
   "cell_type": "markdown",
   "metadata": {},
   "source": [
    "# Log Levels \n",
    "\n",
    "## Python logging module has five predefined levels:\n",
    "\n",
    "- DEBUG: Detailed information, useful for debugging\n",
    "- INFO: Confirmation that things are working as expected\n",
    "- WARNING: An indication that something unexpected happened, or indicative of some problem in the near future\n",
    "- ERROR: Critical problem has occurred\n",
    "- CRITICAL: A serious error, indicating that the program itself may not be able to continue running"
   ]
  },
  {
   "cell_type": "code",
   "execution_count": 2,
   "metadata": {},
   "outputs": [],
   "source": [
    "## configuring logging\n",
    "import logging\n",
    "logging.basicConfig(\n",
    "    level= logging.DEBUG,  \n",
    "    format='%(asctime)s - %(name)s - %(levelname)s - %(message)s',\n",
    "    datefmt='%Y-m-d %H:%M:%S',\n",
    "    filename='app.log',  # specify log file path\n",
    "    filemode='w'  # write mode (overwrite if file exists)\n",
    ")\n",
    "logging.debug('This is a debug message')  # logs at DEBUG level\n",
    "logging.info('This is an info message')  # logs at INFO level\n",
    "logging.warning('This is a warning message')  # logs at WARNING level\n",
    "logging.error('This is an error message')  # logs at ERROR level\n",
    "logging.critical('This is a critical message')  # logs at CRITICAL level"
   ]
  },
  {
   "cell_type": "code",
   "execution_count": null,
   "metadata": {},
   "outputs": [],
   "source": []
  }
 ],
 "metadata": {
  "kernelspec": {
   "display_name": "Python 3",
   "language": "python",
   "name": "python3"
  },
  "language_info": {
   "codemirror_mode": {
    "name": "ipython",
    "version": 3
   },
   "file_extension": ".py",
   "mimetype": "text/x-python",
   "name": "python",
   "nbconvert_exporter": "python",
   "pygments_lexer": "ipython3",
   "version": "3.10.0"
  }
 },
 "nbformat": 4,
 "nbformat_minor": 2
}
