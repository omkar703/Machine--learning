{
 "cells": [
  {
   "cell_type": "code",
   "execution_count": 1,
   "metadata": {},
   "outputs": [
    {
     "name": "stderr",
     "output_type": "stream",
     "text": [
      "2025-01-24 11:59:18 - Arithmatic App - INFO - Addition of 10 and 5 is 15\n",
      "2025-01-24 11:59:18 - Arithmatic App - INFO - Subtraction of 10 and 5 is 5\n",
      "2025-01-24 11:59:18 - Arithmatic App - INFO - Multiplication of 10 and 5 is 50\n",
      "2025-01-24 11:59:18 - Arithmatic App - ERROR - Division by zero is not allowed\n",
      "2025-01-24 11:59:18 - Arithmatic App - INFO - Division of 10 and 5 is 2.0\n"
     ]
    },
    {
     "data": {
      "text/plain": [
       "2.0"
      ]
     },
     "execution_count": 1,
     "metadata": {},
     "output_type": "execute_result"
    }
   ],
   "source": [
    "# Making an Application \n",
    "import logging\n",
    "\n",
    "# logging configuration\n",
    "\n",
    "logging.basicConfig(\n",
    "    level=logging.DEBUG,\n",
    "    format='%(asctime)s - %(name)s - %(levelname)s - %(message)s',\n",
    "    datefmt='%Y-%m-%d %H:%M:%S',\n",
    "    handlers= [\n",
    "        logging.StreamHandler(),\n",
    "        logging.FileHandler('02_logging.log')  # replace with your log file path\n",
    "    ]\n",
    ")\n",
    "\n",
    "# Creating a logger\n",
    "logger = logging.getLogger(\"Arithmatic App\")\n",
    "def add(a, b):\n",
    "    try:\n",
    "        result = a + b\n",
    "        logger.info(f\"Addition of {a} and {b} is {result}\")\n",
    "        return result\n",
    "    except Exception as e:\n",
    "        logger.error(f\"An error occurred: {str(e)}\")\n",
    "        return None\n",
    "def subtract(a, b):\n",
    "    try:\n",
    "        result = a - b\n",
    "        logger.info(f\"Subtraction of {a} and {b} is {result}\")\n",
    "        return result\n",
    "    except Exception as e:\n",
    "        logger.error(f\"An error occurred: {str(e)}\")\n",
    "        return None\n",
    "\n",
    "def multiply(a, b):\n",
    "    try:\n",
    "        result = a * b\n",
    "        logger.info(f\"Multiplication of {a} and {b} is {result}\")\n",
    "        return result\n",
    "    except Exception as e:\n",
    "        logger.error(f\"An error occurred: {str(e)}\")\n",
    "        return None\n",
    "\n",
    "def divide(a, b):\n",
    "    try:\n",
    "        if b == 0:\n",
    "            logger.error(\"Division by zero is not allowed\")\n",
    "            return None\n",
    "        result = a / b\n",
    "        logger.info(f\"Division of {a} and {b} is {result}\")\n",
    "        return result\n",
    "    except Exception as e:\n",
    "        logger.error(f\"An error occurred: {str(e)}\")\n",
    "        return None\n",
    "\n",
    "add(10, 5)\n",
    "\n",
    "subtract(10, 5)\n",
    "\n",
    "multiply(10, 5)\n",
    "\n",
    "divide(10, 0)\n",
    "\n",
    "divide(10, 5)\n"
   ]
  },
  {
   "cell_type": "code",
   "execution_count": null,
   "metadata": {},
   "outputs": [],
   "source": []
  }
 ],
 "metadata": {
  "kernelspec": {
   "display_name": "Python 3",
   "language": "python",
   "name": "python3"
  },
  "language_info": {
   "codemirror_mode": {
    "name": "ipython",
    "version": 3
   },
   "file_extension": ".py",
   "mimetype": "text/x-python",
   "name": "python",
   "nbconvert_exporter": "python",
   "pygments_lexer": "ipython3",
   "version": "3.10.0"
  }
 },
 "nbformat": 4,
 "nbformat_minor": 2
}
