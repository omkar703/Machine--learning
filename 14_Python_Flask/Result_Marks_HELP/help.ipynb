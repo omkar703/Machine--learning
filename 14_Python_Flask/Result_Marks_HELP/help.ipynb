{
 "cells": [
  {
   "cell_type": "markdown",
   "metadata": {},
   "source": [
    "📊 Data Flow in the Application\n",
    "1️⃣ Step 1: User visits the Main Page (index.html)\n",
    "URL: http://127.0.0.1:5000/\n",
    "User sees \"Welcome to the Marks Evaluation System\"\n",
    "Clicks the \"Go to Form\" button → Redirects to /form\n",
    "2️⃣ Step 2: User fills the form (form.html)\n",
    "URL: http://127.0.0.1:5000/form\n",
    "User enters:\n",
    "Name\n",
    "Marks for Maths, Science, English, Social Studies\n",
    "Clicks \"Submit\" button\n",
    "Form Data is sent via POST request to /submit\n",
    "3️⃣ Step 3: Processing in Flask (app.py)\n",
    "The Flask app receives form data\n",
    "Extracts:\n",
    "Name\n",
    "Marks for 4 subjects\n",
    "Calculates Total Marks and Percentage\n",
    "total = sub1 + sub2 + sub3 + sub4\n",
    "percentage = (total / 400) * 100\n",
    "Passes Data to submit.html for Display\n",
    "4️⃣ Step 4: Result is displayed (submit.html)\n",
    "URL: http://127.0.0.1:5000/submit\n",
    "Shows:\n",
    "Name\n",
    "Table of Subject-wise Marks\n",
    "Total Marks\n",
    "Percentage"
   ]
  }
 ],
 "metadata": {
  "language_info": {
   "name": "python"
  }
 },
 "nbformat": 4,
 "nbformat_minor": 2
}
