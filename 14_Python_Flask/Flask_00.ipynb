{
 "cells": [
  {
   "cell_type": "markdown",
   "metadata": {},
   "source": [
    "# Flask Freamework\n",
    " flask is complete web development framework written in Python. It's used to build web applications and APIs.\n",
    "1. WSGI (Web Server Gateway Interface) is a standard interface between web servers and web applications. It allows for the separation of concerns between the server and the application.\n",
    "    |                             |  \n",
    "    |Webservers: Apache, Nginx,...|--> WSGI --> Flask Application (web app)\n",
    "    |                             |\n",
    "    |                             |\n",
    "2. Jinja2 is a modern and designer-friendly templating language for Python. It's used to generate HTML and other web content dynamically.\n"
   ]
  }
 ],
 "metadata": {
  "kernelspec": {
   "display_name": "Python 3",
   "language": "python",
   "name": "python3"
  },
  "language_info": {
   "name": "python",
   "version": "3.10.0"
  }
 },
 "nbformat": 4,
 "nbformat_minor": 2
}
